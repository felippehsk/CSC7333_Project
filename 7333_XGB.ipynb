{
 "cells": [
  {
   "cell_type": "code",
   "execution_count": 1,
   "metadata": {},
   "outputs": [],
   "source": [
    "#Importing libraries\n",
    "import numpy as np\n",
    "import pandas as pd\n",
    "import matplotlib.pyplot as plt\n",
    "import seaborn as sns"
   ]
  },
  {
   "cell_type": "code",
   "execution_count": 2,
   "metadata": {},
   "outputs": [
    {
     "name": "stdout",
     "output_type": "stream",
     "text": [
      "Requirement already satisfied: xgboost in c:\\users\\adity\\anaconda3\\lib\\site-packages (1.0.2)\n",
      "Requirement already satisfied: scipy in c:\\users\\adity\\anaconda3\\lib\\site-packages (from xgboost) (1.4.1)\n",
      "Requirement already satisfied: numpy in c:\\users\\adity\\anaconda3\\lib\\site-packages (from xgboost) (1.16.5)\n",
      "Note: you may need to restart the kernel to use updated packages.\n"
     ]
    }
   ],
   "source": [
    "#Install xgboost library\n",
    "pip install xgboost"
   ]
  },
  {
   "cell_type": "code",
   "execution_count": 3,
   "metadata": {},
   "outputs": [],
   "source": [
    "#Importing models\n",
    "from xgboost import XGBClassifier\n",
    "from xgboost import plot_importance"
   ]
  },
  {
   "cell_type": "code",
   "execution_count": 4,
   "metadata": {},
   "outputs": [
    {
     "data": {
      "text/html": [
       "<div>\n",
       "<style scoped>\n",
       "    .dataframe tbody tr th:only-of-type {\n",
       "        vertical-align: middle;\n",
       "    }\n",
       "\n",
       "    .dataframe tbody tr th {\n",
       "        vertical-align: top;\n",
       "    }\n",
       "\n",
       "    .dataframe thead th {\n",
       "        text-align: right;\n",
       "    }\n",
       "</style>\n",
       "<table border=\"1\" class=\"dataframe\">\n",
       "  <thead>\n",
       "    <tr style=\"text-align: right;\">\n",
       "      <th></th>\n",
       "      <th>Destination Port</th>\n",
       "      <th>Flow Duration</th>\n",
       "      <th>Total Fwd Packets</th>\n",
       "      <th>Total Backward Packets</th>\n",
       "      <th>Total Length of Fwd Packets</th>\n",
       "      <th>Total Length of Bwd Packets</th>\n",
       "      <th>Fwd Packet Length Max</th>\n",
       "      <th>Fwd Packet Length Min</th>\n",
       "      <th>Fwd Packet Length Mean</th>\n",
       "      <th>Fwd Packet Length Std</th>\n",
       "      <th>...</th>\n",
       "      <th>min_seg_size_forward</th>\n",
       "      <th>Active Mean</th>\n",
       "      <th>Active Std</th>\n",
       "      <th>Active Max</th>\n",
       "      <th>Active Min</th>\n",
       "      <th>Idle Mean</th>\n",
       "      <th>Idle Std</th>\n",
       "      <th>Idle Max</th>\n",
       "      <th>Idle Min</th>\n",
       "      <th>Label</th>\n",
       "    </tr>\n",
       "  </thead>\n",
       "  <tbody>\n",
       "    <tr>\n",
       "      <td>0</td>\n",
       "      <td>3268</td>\n",
       "      <td>112740690</td>\n",
       "      <td>32</td>\n",
       "      <td>16</td>\n",
       "      <td>6448</td>\n",
       "      <td>1152</td>\n",
       "      <td>403</td>\n",
       "      <td>0</td>\n",
       "      <td>201.5</td>\n",
       "      <td>204.724205</td>\n",
       "      <td>...</td>\n",
       "      <td>32</td>\n",
       "      <td>3.594286e+02</td>\n",
       "      <td>1.199802e+01</td>\n",
       "      <td>380</td>\n",
       "      <td>343</td>\n",
       "      <td>16100000.0</td>\n",
       "      <td>4.988048e+05</td>\n",
       "      <td>16400000</td>\n",
       "      <td>15400000</td>\n",
       "      <td>BENIGN</td>\n",
       "    </tr>\n",
       "    <tr>\n",
       "      <td>1</td>\n",
       "      <td>389</td>\n",
       "      <td>112740560</td>\n",
       "      <td>32</td>\n",
       "      <td>16</td>\n",
       "      <td>6448</td>\n",
       "      <td>5056</td>\n",
       "      <td>403</td>\n",
       "      <td>0</td>\n",
       "      <td>201.5</td>\n",
       "      <td>204.724205</td>\n",
       "      <td>...</td>\n",
       "      <td>32</td>\n",
       "      <td>3.202857e+02</td>\n",
       "      <td>1.574499e+01</td>\n",
       "      <td>330</td>\n",
       "      <td>285</td>\n",
       "      <td>16100000.0</td>\n",
       "      <td>4.987937e+05</td>\n",
       "      <td>16400000</td>\n",
       "      <td>15400000</td>\n",
       "      <td>BENIGN</td>\n",
       "    </tr>\n",
       "    <tr>\n",
       "      <td>2</td>\n",
       "      <td>0</td>\n",
       "      <td>113757377</td>\n",
       "      <td>545</td>\n",
       "      <td>0</td>\n",
       "      <td>0</td>\n",
       "      <td>0</td>\n",
       "      <td>0</td>\n",
       "      <td>0</td>\n",
       "      <td>0.0</td>\n",
       "      <td>0.000000</td>\n",
       "      <td>...</td>\n",
       "      <td>0</td>\n",
       "      <td>9.361829e+06</td>\n",
       "      <td>7.324646e+06</td>\n",
       "      <td>18900000</td>\n",
       "      <td>19</td>\n",
       "      <td>12200000.0</td>\n",
       "      <td>6.935824e+06</td>\n",
       "      <td>20800000</td>\n",
       "      <td>5504997</td>\n",
       "      <td>BENIGN</td>\n",
       "    </tr>\n",
       "    <tr>\n",
       "      <td>3</td>\n",
       "      <td>5355</td>\n",
       "      <td>100126</td>\n",
       "      <td>22</td>\n",
       "      <td>0</td>\n",
       "      <td>616</td>\n",
       "      <td>0</td>\n",
       "      <td>28</td>\n",
       "      <td>28</td>\n",
       "      <td>28.0</td>\n",
       "      <td>0.000000</td>\n",
       "      <td>...</td>\n",
       "      <td>32</td>\n",
       "      <td>0.000000e+00</td>\n",
       "      <td>0.000000e+00</td>\n",
       "      <td>0</td>\n",
       "      <td>0</td>\n",
       "      <td>0.0</td>\n",
       "      <td>0.000000e+00</td>\n",
       "      <td>0</td>\n",
       "      <td>0</td>\n",
       "      <td>BENIGN</td>\n",
       "    </tr>\n",
       "    <tr>\n",
       "      <td>4</td>\n",
       "      <td>0</td>\n",
       "      <td>54760</td>\n",
       "      <td>4</td>\n",
       "      <td>0</td>\n",
       "      <td>0</td>\n",
       "      <td>0</td>\n",
       "      <td>0</td>\n",
       "      <td>0</td>\n",
       "      <td>0.0</td>\n",
       "      <td>0.000000</td>\n",
       "      <td>...</td>\n",
       "      <td>0</td>\n",
       "      <td>0.000000e+00</td>\n",
       "      <td>0.000000e+00</td>\n",
       "      <td>0</td>\n",
       "      <td>0</td>\n",
       "      <td>0.0</td>\n",
       "      <td>0.000000e+00</td>\n",
       "      <td>0</td>\n",
       "      <td>0</td>\n",
       "      <td>BENIGN</td>\n",
       "    </tr>\n",
       "  </tbody>\n",
       "</table>\n",
       "<p>5 rows × 79 columns</p>\n",
       "</div>"
      ],
      "text/plain": [
       "    Destination Port   Flow Duration   Total Fwd Packets  \\\n",
       "0               3268       112740690                  32   \n",
       "1                389       112740560                  32   \n",
       "2                  0       113757377                 545   \n",
       "3               5355          100126                  22   \n",
       "4                  0           54760                   4   \n",
       "\n",
       "    Total Backward Packets  Total Length of Fwd Packets  \\\n",
       "0                       16                         6448   \n",
       "1                       16                         6448   \n",
       "2                        0                            0   \n",
       "3                        0                          616   \n",
       "4                        0                            0   \n",
       "\n",
       "    Total Length of Bwd Packets   Fwd Packet Length Max  \\\n",
       "0                          1152                     403   \n",
       "1                          5056                     403   \n",
       "2                             0                       0   \n",
       "3                             0                      28   \n",
       "4                             0                       0   \n",
       "\n",
       "    Fwd Packet Length Min   Fwd Packet Length Mean   Fwd Packet Length Std  \\\n",
       "0                       0                    201.5              204.724205   \n",
       "1                       0                    201.5              204.724205   \n",
       "2                       0                      0.0                0.000000   \n",
       "3                      28                     28.0                0.000000   \n",
       "4                       0                      0.0                0.000000   \n",
       "\n",
       "   ...   min_seg_size_forward   Active Mean    Active Std   Active Max  \\\n",
       "0  ...                     32  3.594286e+02  1.199802e+01          380   \n",
       "1  ...                     32  3.202857e+02  1.574499e+01          330   \n",
       "2  ...                      0  9.361829e+06  7.324646e+06     18900000   \n",
       "3  ...                     32  0.000000e+00  0.000000e+00            0   \n",
       "4  ...                      0  0.000000e+00  0.000000e+00            0   \n",
       "\n",
       "    Active Min   Idle Mean      Idle Std   Idle Max   Idle Min   Label  \n",
       "0          343  16100000.0  4.988048e+05   16400000   15400000  BENIGN  \n",
       "1          285  16100000.0  4.987937e+05   16400000   15400000  BENIGN  \n",
       "2           19  12200000.0  6.935824e+06   20800000    5504997  BENIGN  \n",
       "3            0         0.0  0.000000e+00          0          0  BENIGN  \n",
       "4            0         0.0  0.000000e+00          0          0  BENIGN  \n",
       "\n",
       "[5 rows x 79 columns]"
      ]
     },
     "execution_count": 4,
     "metadata": {},
     "output_type": "execute_result"
    }
   ],
   "source": [
    "#Dataset importing and display head\n",
    "dataset = pd.read_csv('Friday-WorkingHours-Morning.pcap_ISCX.csv')\n",
    "dataset.head()"
   ]
  },
  {
   "cell_type": "code",
   "execution_count": 5,
   "metadata": {},
   "outputs": [
    {
     "data": {
      "text/html": [
       "<div>\n",
       "<style scoped>\n",
       "    .dataframe tbody tr th:only-of-type {\n",
       "        vertical-align: middle;\n",
       "    }\n",
       "\n",
       "    .dataframe tbody tr th {\n",
       "        vertical-align: top;\n",
       "    }\n",
       "\n",
       "    .dataframe thead th {\n",
       "        text-align: right;\n",
       "    }\n",
       "</style>\n",
       "<table border=\"1\" class=\"dataframe\">\n",
       "  <thead>\n",
       "    <tr style=\"text-align: right;\">\n",
       "      <th></th>\n",
       "      <th>Flow Duration</th>\n",
       "      <th>Total Fwd Packets</th>\n",
       "      <th>Total Backward Packets</th>\n",
       "      <th>Total Length of Fwd Packets</th>\n",
       "      <th>Total Length of Bwd Packets</th>\n",
       "      <th>Fwd Packet Length Max</th>\n",
       "      <th>Fwd Packet Length Min</th>\n",
       "      <th>Fwd Packet Length Mean</th>\n",
       "      <th>Fwd Packet Length Std</th>\n",
       "      <th>Bwd Packet Length Max</th>\n",
       "      <th>...</th>\n",
       "      <th>min_seg_size_forward</th>\n",
       "      <th>Active Mean</th>\n",
       "      <th>Active Std</th>\n",
       "      <th>Active Max</th>\n",
       "      <th>Active Min</th>\n",
       "      <th>Idle Mean</th>\n",
       "      <th>Idle Std</th>\n",
       "      <th>Idle Max</th>\n",
       "      <th>Idle Min</th>\n",
       "      <th>Label</th>\n",
       "    </tr>\n",
       "  </thead>\n",
       "  <tbody>\n",
       "    <tr>\n",
       "      <td>0</td>\n",
       "      <td>112740690</td>\n",
       "      <td>32</td>\n",
       "      <td>16</td>\n",
       "      <td>6448</td>\n",
       "      <td>1152</td>\n",
       "      <td>403</td>\n",
       "      <td>0</td>\n",
       "      <td>201.5</td>\n",
       "      <td>204.724205</td>\n",
       "      <td>72</td>\n",
       "      <td>...</td>\n",
       "      <td>32</td>\n",
       "      <td>3.594286e+02</td>\n",
       "      <td>1.199802e+01</td>\n",
       "      <td>380</td>\n",
       "      <td>343</td>\n",
       "      <td>16100000.0</td>\n",
       "      <td>4.988048e+05</td>\n",
       "      <td>16400000</td>\n",
       "      <td>15400000</td>\n",
       "      <td>BENIGN</td>\n",
       "    </tr>\n",
       "    <tr>\n",
       "      <td>1</td>\n",
       "      <td>112740560</td>\n",
       "      <td>32</td>\n",
       "      <td>16</td>\n",
       "      <td>6448</td>\n",
       "      <td>5056</td>\n",
       "      <td>403</td>\n",
       "      <td>0</td>\n",
       "      <td>201.5</td>\n",
       "      <td>204.724205</td>\n",
       "      <td>316</td>\n",
       "      <td>...</td>\n",
       "      <td>32</td>\n",
       "      <td>3.202857e+02</td>\n",
       "      <td>1.574499e+01</td>\n",
       "      <td>330</td>\n",
       "      <td>285</td>\n",
       "      <td>16100000.0</td>\n",
       "      <td>4.987937e+05</td>\n",
       "      <td>16400000</td>\n",
       "      <td>15400000</td>\n",
       "      <td>BENIGN</td>\n",
       "    </tr>\n",
       "    <tr>\n",
       "      <td>2</td>\n",
       "      <td>113757377</td>\n",
       "      <td>545</td>\n",
       "      <td>0</td>\n",
       "      <td>0</td>\n",
       "      <td>0</td>\n",
       "      <td>0</td>\n",
       "      <td>0</td>\n",
       "      <td>0.0</td>\n",
       "      <td>0.000000</td>\n",
       "      <td>0</td>\n",
       "      <td>...</td>\n",
       "      <td>0</td>\n",
       "      <td>9.361829e+06</td>\n",
       "      <td>7.324646e+06</td>\n",
       "      <td>18900000</td>\n",
       "      <td>19</td>\n",
       "      <td>12200000.0</td>\n",
       "      <td>6.935824e+06</td>\n",
       "      <td>20800000</td>\n",
       "      <td>5504997</td>\n",
       "      <td>BENIGN</td>\n",
       "    </tr>\n",
       "    <tr>\n",
       "      <td>3</td>\n",
       "      <td>100126</td>\n",
       "      <td>22</td>\n",
       "      <td>0</td>\n",
       "      <td>616</td>\n",
       "      <td>0</td>\n",
       "      <td>28</td>\n",
       "      <td>28</td>\n",
       "      <td>28.0</td>\n",
       "      <td>0.000000</td>\n",
       "      <td>0</td>\n",
       "      <td>...</td>\n",
       "      <td>32</td>\n",
       "      <td>0.000000e+00</td>\n",
       "      <td>0.000000e+00</td>\n",
       "      <td>0</td>\n",
       "      <td>0</td>\n",
       "      <td>0.0</td>\n",
       "      <td>0.000000e+00</td>\n",
       "      <td>0</td>\n",
       "      <td>0</td>\n",
       "      <td>BENIGN</td>\n",
       "    </tr>\n",
       "    <tr>\n",
       "      <td>4</td>\n",
       "      <td>54760</td>\n",
       "      <td>4</td>\n",
       "      <td>0</td>\n",
       "      <td>0</td>\n",
       "      <td>0</td>\n",
       "      <td>0</td>\n",
       "      <td>0</td>\n",
       "      <td>0.0</td>\n",
       "      <td>0.000000</td>\n",
       "      <td>0</td>\n",
       "      <td>...</td>\n",
       "      <td>0</td>\n",
       "      <td>0.000000e+00</td>\n",
       "      <td>0.000000e+00</td>\n",
       "      <td>0</td>\n",
       "      <td>0</td>\n",
       "      <td>0.0</td>\n",
       "      <td>0.000000e+00</td>\n",
       "      <td>0</td>\n",
       "      <td>0</td>\n",
       "      <td>BENIGN</td>\n",
       "    </tr>\n",
       "  </tbody>\n",
       "</table>\n",
       "<p>5 rows × 78 columns</p>\n",
       "</div>"
      ],
      "text/plain": [
       "    Flow Duration   Total Fwd Packets   Total Backward Packets  \\\n",
       "0       112740690                  32                       16   \n",
       "1       112740560                  32                       16   \n",
       "2       113757377                 545                        0   \n",
       "3          100126                  22                        0   \n",
       "4           54760                   4                        0   \n",
       "\n",
       "   Total Length of Fwd Packets   Total Length of Bwd Packets  \\\n",
       "0                         6448                          1152   \n",
       "1                         6448                          5056   \n",
       "2                            0                             0   \n",
       "3                          616                             0   \n",
       "4                            0                             0   \n",
       "\n",
       "    Fwd Packet Length Max   Fwd Packet Length Min   Fwd Packet Length Mean  \\\n",
       "0                     403                       0                    201.5   \n",
       "1                     403                       0                    201.5   \n",
       "2                       0                       0                      0.0   \n",
       "3                      28                      28                     28.0   \n",
       "4                       0                       0                      0.0   \n",
       "\n",
       "    Fwd Packet Length Std  Bwd Packet Length Max  ...   min_seg_size_forward  \\\n",
       "0              204.724205                     72  ...                     32   \n",
       "1              204.724205                    316  ...                     32   \n",
       "2                0.000000                      0  ...                      0   \n",
       "3                0.000000                      0  ...                     32   \n",
       "4                0.000000                      0  ...                      0   \n",
       "\n",
       "    Active Mean    Active Std   Active Max   Active Min   Idle Mean  \\\n",
       "0  3.594286e+02  1.199802e+01          380          343  16100000.0   \n",
       "1  3.202857e+02  1.574499e+01          330          285  16100000.0   \n",
       "2  9.361829e+06  7.324646e+06     18900000           19  12200000.0   \n",
       "3  0.000000e+00  0.000000e+00            0            0         0.0   \n",
       "4  0.000000e+00  0.000000e+00            0            0         0.0   \n",
       "\n",
       "       Idle Std   Idle Max   Idle Min   Label  \n",
       "0  4.988048e+05   16400000   15400000  BENIGN  \n",
       "1  4.987937e+05   16400000   15400000  BENIGN  \n",
       "2  6.935824e+06   20800000    5504997  BENIGN  \n",
       "3  0.000000e+00          0          0  BENIGN  \n",
       "4  0.000000e+00          0          0  BENIGN  \n",
       "\n",
       "[5 rows x 78 columns]"
      ]
     },
     "execution_count": 5,
     "metadata": {},
     "output_type": "execute_result"
    }
   ],
   "source": [
    "df = dataset.drop(columns=[' Destination Port'])\n",
    "df.head()"
   ]
  },
  {
   "cell_type": "code",
   "execution_count": 40,
   "metadata": {},
   "outputs": [
    {
     "name": "stdout",
     "output_type": "stream",
     "text": [
      "(190911, 77)\n",
      "(190911,)\n"
     ]
    }
   ],
   "source": [
    "#Assigning X- independent and y- dependent variable\n",
    "X = df.drop(columns=' Label')\n",
    "y = df.iloc[:,77]\n",
    "print(X.shape)\n",
    "print(y.shape)"
   ]
  },
  {
   "cell_type": "code",
   "execution_count": 7,
   "metadata": {},
   "outputs": [
    {
     "data": {
      "text/plain": [
       "<matplotlib.axes._subplots.AxesSubplot at 0x282d5243848>"
      ]
     },
     "execution_count": 7,
     "metadata": {},
     "output_type": "execute_result"
    },
    {
     "data": {
      "image/png": "[encoded data removed]",
      "text/plain": [
       "<Figure size 432x288 with 1 Axes>"
      ]
     },
     "metadata": {
      "needs_background": "light"
     },
     "output_type": "display_data"
    }
   ],
   "source": [
    "sns.countplot(x=' Label',data=df)"
   ]
  },
  {
   "cell_type": "code",
   "execution_count": 8,
   "metadata": {},
   "outputs": [
    {
     "data": {
      "text/plain": [
       "StandardScaler(copy=True, with_mean=True, with_std=True)"
      ]
     },
     "execution_count": 8,
     "metadata": {},
     "output_type": "execute_result"
    }
   ],
   "source": [
    "#Scaling independent features\n",
    "from sklearn.preprocessing import StandardScaler\n",
    "scaler=StandardScaler()\n",
    "scaler.fit(X)"
   ]
  },
  {
   "cell_type": "code",
   "execution_count": 9,
   "metadata": {},
   "outputs": [],
   "source": [
    "#Tranforming to scaled data\n",
    "scaled_data=scaler.transform(X)\n",
    "X = scaled_data"
   ]
  },
  {
   "cell_type": "code",
   "execution_count": 10,
   "metadata": {},
   "outputs": [],
   "source": [
    "#Importing Randomsearch cross validation\n",
    "from sklearn.model_selection import RandomizedSearchCV"
   ]
  },
  {
   "cell_type": "code",
   "execution_count": 11,
   "metadata": {},
   "outputs": [],
   "source": [
    "import xgboost as xgb\n",
    "classifier=xgb.XGBClassifier()"
   ]
  },
  {
   "cell_type": "code",
   "execution_count": 12,
   "metadata": {},
   "outputs": [],
   "source": [
    "#Hyperparameter optimization\n",
    "parameters={\n",
    " \"learning_rate\"    : [0.05, 0.10, 0.15, 0.20, 0.25, 0.30 ] ,\n",
    " \"max_depth\"        : [ 3, 4, 5, 6, 8, 10, 12, 15, 18, 20],\n",
    " \"min_child_weight\" : [ 1, 3, 5, 7, 8 ],\n",
    " \"gamma\"            : [ 0.0, 0.1, 0.2 , 0.3, 0.4, 0.5 ],\n",
    " \"colsample_bytree\" : [ 0.3, 0.4, 0.5 , 0.7, 0.9 ]   \n",
    "}"
   ]
  },
  {
   "cell_type": "code",
   "execution_count": 13,
   "metadata": {},
   "outputs": [],
   "source": [
    "#providing XGboost classifier to random search cross validation \n",
    "random_search=RandomizedSearchCV(classifier,param_distributions=parameters,n_iter=5,scoring='roc_auc',n_jobs=-1,cv=100,verbose=3)"
   ]
  },
  {
   "cell_type": "code",
   "execution_count": 14,
   "metadata": {},
   "outputs": [
    {
     "name": "stdout",
     "output_type": "stream",
     "text": [
      "Fitting 100 folds for each of 5 candidates, totalling 500 fits\n"
     ]
    },
    {
     "name": "stderr",
     "output_type": "stream",
     "text": [
      "[Parallel(n_jobs=-1)]: Using backend LokyBackend with 8 concurrent workers.\n",
      "[Parallel(n_jobs=-1)]: Done  16 tasks      | elapsed:  4.8min\n",
      "[Parallel(n_jobs=-1)]: Done 112 tasks      | elapsed: 32.4min\n",
      "[Parallel(n_jobs=-1)]: Done 272 tasks      | elapsed: 106.2min\n",
      "[Parallel(n_jobs=-1)]: Done 500 out of 500 | elapsed: 228.8min finished\n"
     ]
    },
    {
     "data": {
      "text/plain": [
       "RandomizedSearchCV(cv=100, error_score='raise-deprecating',\n",
       "                   estimator=XGBClassifier(base_score=None, booster=None,\n",
       "                                           colsample_bylevel=None,\n",
       "                                           colsample_bynode=None,\n",
       "                                           colsample_bytree=None, gamma=None,\n",
       "                                           gpu_id=None, importance_type='gain',\n",
       "                                           interaction_constraints=None,\n",
       "                                           learning_rate=None,\n",
       "                                           max_delta_step=None, max_depth=None,\n",
       "                                           min_child_weight=None, missing=nan,\n",
       "                                           monotone_...\n",
       "                                           verbosity=None),\n",
       "                   iid='warn', n_iter=5, n_jobs=-1,\n",
       "                   param_distributions={'colsample_bytree': [0.3, 0.4, 0.5, 0.7,\n",
       "                                                             0.9],\n",
       "                                        'gamma': [0.0, 0.1, 0.2, 0.3, 0.4, 0.5],\n",
       "                                        'learning_rate': [0.05, 0.1, 0.15, 0.2,\n",
       "                                                          0.25, 0.3],\n",
       "                                        'max_depth': [3, 4, 5, 6, 8, 10, 12, 15,\n",
       "                                                      18, 20],\n",
       "                                        'min_child_weight': [1, 3, 5, 7, 8]},\n",
       "                   pre_dispatch='2*n_jobs', random_state=None, refit=True,\n",
       "                   return_train_score=False, scoring='roc_auc', verbose=3)"
      ]
     },
     "execution_count": 14,
     "metadata": {},
     "output_type": "execute_result"
    }
   ],
   "source": [
    "#Implementing random search CV by providing input features\n",
    "random_search.fit(X,y)"
   ]
  },
  {
   "cell_type": "code",
   "execution_count": 15,
   "metadata": {},
   "outputs": [
    {
     "data": {
      "text/plain": [
       "XGBClassifier(base_score=0.5, booster=None, colsample_bylevel=1,\n",
       "              colsample_bynode=1, colsample_bytree=0.7, gamma=0.3, gpu_id=-1,\n",
       "              importance_type='gain', interaction_constraints=None,\n",
       "              learning_rate=0.25, max_delta_step=0, max_depth=20,\n",
       "              min_child_weight=5, missing=nan, monotone_constraints=None,\n",
       "              n_estimators=100, n_jobs=0, num_parallel_tree=1,\n",
       "              objective='binary:logistic', random_state=0, reg_alpha=0,\n",
       "              reg_lambda=1, scale_pos_weight=1, subsample=1, tree_method=None,\n",
       "              validate_parameters=False, verbosity=None)"
      ]
     },
     "execution_count": 15,
     "metadata": {},
     "output_type": "execute_result"
    }
   ],
   "source": [
    "#paramaters estimator and optimized results\n",
    "random_search.best_estimator_"
   ]
  },
  {
   "cell_type": "code",
   "execution_count": 17,
   "metadata": {},
   "outputs": [],
   "source": [
    "#Assigning an object to XGBclassifier\n",
    "gbm = xgb.XGBClassifier(base_score=0.5, booster=None, colsample_bylevel=1,\n",
    "              colsample_bynode=1, colsample_bytree=0.7, gamma=0.3, gpu_id=-1,\n",
    "              importance_type='gain', interaction_constraints=None,\n",
    "              learning_rate=0.25, max_delta_step=0, max_depth=20,\n",
    "              min_child_weight=5, monotone_constraints=None,\n",
    "              n_estimators=100, n_jobs=0, num_parallel_tree=1,\n",
    "              objective='binary:logistic', random_state=0, reg_alpha=0,\n",
    "              reg_lambda=1, scale_pos_weight=1, subsample=1, tree_method=None,\n",
    "              validate_parameters=False, verbosity=None)"
   ]
  },
  {
   "cell_type": "code",
   "execution_count": 18,
   "metadata": {},
   "outputs": [],
   "source": [
    "from sklearn.metrics import accuracy_score "
   ]
  },
  {
   "cell_type": "code",
   "execution_count": 19,
   "metadata": {},
   "outputs": [
    {
     "name": "stdout",
     "output_type": "stream",
     "text": [
      "[0.9984293193717277, 1.0, 1.0, 1.0, 1.0, 1.0, 0.9994764397905759, 1.0, 1.0, 1.0, 0.9994764397905759, 1.0, 1.0, 1.0, 0.9994764397905759, 1.0, 1.0, 1.0, 1.0, 0.9994764397905759, 0.9989528795811519, 1.0, 1.0, 1.0, 1.0, 1.0, 0.9994764397905759, 1.0, 1.0, 0.9994764397905759, 0.9989528795811519, 0.9989528795811519, 1.0, 1.0, 1.0, 1.0, 1.0, 0.9994764397905759, 0.9994764397905759, 1.0, 0.9984293193717277, 1.0, 0.9979057591623036, 0.9994764397905759, 0.9994764397905759, 0.9994764397905759, 1.0, 0.9994764397905759, 1.0, 1.0, 1.0, 1.0, 1.0, 1.0, 1.0, 1.0, 1.0, 0.9989517819706499, 1.0, 1.0, 1.0, 1.0, 0.999475890985325, 1.0, 0.999475890985325, 1.0, 1.0, 1.0, 1.0, 1.0, 1.0, 1.0, 1.0, 1.0, 1.0, 1.0, 1.0, 1.0, 0.9989517819706499, 1.0, 1.0, 1.0, 0.999475890985325, 1.0, 1.0, 1.0, 1.0, 1.0, 1.0, 1.0, 1.0, 1.0, 1.0, 1.0, 1.0, 1.0, 0.999475890985325, 1.0, 1.0, 0.999475890985325]\n"
     ]
    }
   ],
   "source": [
    "#Importing Stratified K fold cross validation\n",
    "from sklearn.model_selection import StratifiedKFold\n",
    "\n",
    "#Implementing Stratified K fold CV\n",
    "accuracy=[]\n",
    "skf=StratifiedKFold(n_splits=100, random_state=None)\n",
    "skf.get_n_splits(X,y)\n",
    "for train_index, test_index in skf.split(X,y):\n",
    "    X_train, X_test = X[train_index], X[test_index]\n",
    "    y_train, y_test = y.iloc[train_index], y.iloc[test_index]\n",
    "    gbm.fit(X_train,y_train)\n",
    "    predictions = gbm.predict(X_test)\n",
    "    score_=accuracy_score(predictions,y_test)\n",
    "    accuracy.append(score_)\n",
    "print(accuracy) "
   ]
  },
  {
   "cell_type": "code",
   "execution_count": 20,
   "metadata": {},
   "outputs": [
    {
     "data": {
      "text/plain": [
       "0.9998062333300405"
      ]
     },
     "execution_count": 20,
     "metadata": {},
     "output_type": "execute_result"
    }
   ],
   "source": [
    "#Accuracy evaluation\n",
    "np.array(accuracy).mean()"
   ]
  },
  {
   "cell_type": "code",
   "execution_count": 45,
   "metadata": {},
   "outputs": [
    {
     "data": {
      "image/png": "[encoded data removed]",
      "text/plain": [
       "<Figure size 288x288 with 1 Axes>"
      ]
     },
     "metadata": {
      "needs_background": "light"
     },
     "output_type": "display_data"
    }
   ],
   "source": [
    "from pylab import rcParams\n",
    "plot_importance(gbm, max_num_features=10)\n",
    "rcParams['figure.figsize'] = 4,4"
   ]
  },
  {
   "cell_type": "code",
   "execution_count": 69,
   "metadata": {},
   "outputs": [
    {
     "data": {
      "text/html": [
       "<div>\n",
       "<style scoped>\n",
       "    .dataframe tbody tr th:only-of-type {\n",
       "        vertical-align: middle;\n",
       "    }\n",
       "\n",
       "    .dataframe tbody tr th {\n",
       "        vertical-align: top;\n",
       "    }\n",
       "\n",
       "    .dataframe thead th {\n",
       "        text-align: right;\n",
       "    }\n",
       "</style>\n",
       "<table border=\"1\" class=\"dataframe\">\n",
       "  <thead>\n",
       "    <tr style=\"text-align: right;\">\n",
       "      <th></th>\n",
       "      <th>score</th>\n",
       "    </tr>\n",
       "  </thead>\n",
       "  <tbody>\n",
       "    <tr>\n",
       "      <td>Total Length of Bwd Packets</td>\n",
       "      <td>0.133937</td>\n",
       "    </tr>\n",
       "    <tr>\n",
       "      <td>Total Backward Packets</td>\n",
       "      <td>0.093459</td>\n",
       "    </tr>\n",
       "    <tr>\n",
       "      <td>Flow IAT Max</td>\n",
       "      <td>0.079473</td>\n",
       "    </tr>\n",
       "    <tr>\n",
       "      <td>Bwd IAT Std</td>\n",
       "      <td>0.071138</td>\n",
       "    </tr>\n",
       "    <tr>\n",
       "      <td>Avg Bwd Segment Size</td>\n",
       "      <td>0.062003</td>\n",
       "    </tr>\n",
       "    <tr>\n",
       "      <td>Bwd Packet Length Mean</td>\n",
       "      <td>0.044577</td>\n",
       "    </tr>\n",
       "    <tr>\n",
       "      <td>Max Packet Length</td>\n",
       "      <td>0.040880</td>\n",
       "    </tr>\n",
       "    <tr>\n",
       "      <td>Fwd IAT Min</td>\n",
       "      <td>0.032842</td>\n",
       "    </tr>\n",
       "    <tr>\n",
       "      <td>Bwd Packet Length Min</td>\n",
       "      <td>0.025970</td>\n",
       "    </tr>\n",
       "    <tr>\n",
       "      <td>Packet Length Mean</td>\n",
       "      <td>0.025218</td>\n",
       "    </tr>\n",
       "  </tbody>\n",
       "</table>\n",
       "</div>"
      ],
      "text/plain": [
       "                                 score\n",
       " Total Length of Bwd Packets  0.133937\n",
       " Total Backward Packets       0.093459\n",
       " Flow IAT Max                 0.079473\n",
       " Bwd IAT Std                  0.071138\n",
       " Avg Bwd Segment Size         0.062003\n",
       " Bwd Packet Length Mean       0.044577\n",
       " Max Packet Length            0.040880\n",
       " Fwd IAT Min                  0.032842\n",
       " Bwd Packet Length Min        0.025970\n",
       " Packet Length Mean           0.025218"
      ]
     },
     "execution_count": 69,
     "metadata": {},
     "output_type": "execute_result"
    }
   ],
   "source": [
    "#Evaluating top features\n",
    "cols_list = list(X.columns)\n",
    "feature_importances = pd.DataFrame(gbm.feature_importances_,\n",
    "                                   index = cols_list,\n",
    "                                    columns=['score']).sort_values('score', ascending=False)\n",
    "feature_importances.head(10)"
   ]
  },
  {
   "cell_type": "code",
   "execution_count": null,
   "metadata": {},
   "outputs": [],
   "source": []
  },
  {
   "cell_type": "code",
   "execution_count": null,
   "metadata": {},
   "outputs": [],
   "source": []
  }
 ],
 "metadata": {
  "kernelspec": {
   "display_name": "Python 3",
   "language": "python",
   "name": "python3"
  },
  "language_info": {
   "codemirror_mode": {
    "name": "ipython",
    "version": 3
   },
   "file_extension": ".py",
   "mimetype": "text/x-python",
   "name": "python",
   "nbconvert_exporter": "python",
   "pygments_lexer": "ipython3",
   "version": "3.7.4"
  }
 },
 "nbformat": 4,
 "nbformat_minor": 2
}
