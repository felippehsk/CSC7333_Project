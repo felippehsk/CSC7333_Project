{
 "cells": [
  {
   "cell_type": "code",
   "execution_count": 1,
   "metadata": {},
   "outputs": [],
   "source": [
    "#Importing libraries\n",
    "\n",
    "import numpy as np\n",
    "import pandas as pd\n",
    "import matplotlib.pyplot as plt\n",
    "import seaborn as sns\n",
    "from xgboost import XGBClassifier\n",
    "from xgboost import plot_importance\n",
    "import scipy"
   ]
  },
  {
   "cell_type": "markdown",
   "metadata": {},
   "source": [
    "## Importing cleaned Dataset - 'FK_Friday_Fixed_Heading.csv'"
   ]
  },
  {
   "cell_type": "code",
   "execution_count": 2,
   "metadata": {},
   "outputs": [
    {
     "data": {
      "text/html": [
       "<div>\n",
       "<style scoped>\n",
       "    .dataframe tbody tr th:only-of-type {\n",
       "        vertical-align: middle;\n",
       "    }\n",
       "\n",
       "    .dataframe tbody tr th {\n",
       "        vertical-align: top;\n",
       "    }\n",
       "\n",
       "    .dataframe thead th {\n",
       "        text-align: right;\n",
       "    }\n",
       "</style>\n",
       "<table border=\"1\" class=\"dataframe\">\n",
       "  <thead>\n",
       "    <tr style=\"text-align: right;\">\n",
       "      <th></th>\n",
       "      <th>FlowDuration</th>\n",
       "      <th>TotalFwdPackets</th>\n",
       "      <th>TotalBackwardPackets</th>\n",
       "      <th>TotalLengthofFwdPackets</th>\n",
       "      <th>TotalLengthofBwdPackets</th>\n",
       "      <th>FwdPacketLengthMax</th>\n",
       "      <th>FwdPacketLengthMin</th>\n",
       "      <th>FwdPacketLengthMean</th>\n",
       "      <th>FwdPacketLengthStd</th>\n",
       "      <th>BwdPacketLengthMax</th>\n",
       "      <th>...</th>\n",
       "      <th>min_seg_size_forward</th>\n",
       "      <th>ActiveMean</th>\n",
       "      <th>ActiveStd</th>\n",
       "      <th>ActiveMax</th>\n",
       "      <th>ActiveMin</th>\n",
       "      <th>IdleMean</th>\n",
       "      <th>IdleStd</th>\n",
       "      <th>IdleMax</th>\n",
       "      <th>IdleMin</th>\n",
       "      <th>Label</th>\n",
       "    </tr>\n",
       "  </thead>\n",
       "  <tbody>\n",
       "    <tr>\n",
       "      <td>0</td>\n",
       "      <td>112740690</td>\n",
       "      <td>32</td>\n",
       "      <td>16</td>\n",
       "      <td>6448</td>\n",
       "      <td>1152</td>\n",
       "      <td>403</td>\n",
       "      <td>0</td>\n",
       "      <td>201.5</td>\n",
       "      <td>204.724205</td>\n",
       "      <td>72</td>\n",
       "      <td>...</td>\n",
       "      <td>32</td>\n",
       "      <td>3.594286e+02</td>\n",
       "      <td>1.199802e+01</td>\n",
       "      <td>380</td>\n",
       "      <td>343</td>\n",
       "      <td>16100000.0</td>\n",
       "      <td>4.988048e+05</td>\n",
       "      <td>16400000</td>\n",
       "      <td>15400000</td>\n",
       "      <td>BENIGN</td>\n",
       "    </tr>\n",
       "    <tr>\n",
       "      <td>1</td>\n",
       "      <td>112740560</td>\n",
       "      <td>32</td>\n",
       "      <td>16</td>\n",
       "      <td>6448</td>\n",
       "      <td>5056</td>\n",
       "      <td>403</td>\n",
       "      <td>0</td>\n",
       "      <td>201.5</td>\n",
       "      <td>204.724205</td>\n",
       "      <td>316</td>\n",
       "      <td>...</td>\n",
       "      <td>32</td>\n",
       "      <td>3.202857e+02</td>\n",
       "      <td>1.574499e+01</td>\n",
       "      <td>330</td>\n",
       "      <td>285</td>\n",
       "      <td>16100000.0</td>\n",
       "      <td>4.987937e+05</td>\n",
       "      <td>16400000</td>\n",
       "      <td>15400000</td>\n",
       "      <td>BENIGN</td>\n",
       "    </tr>\n",
       "    <tr>\n",
       "      <td>2</td>\n",
       "      <td>113757377</td>\n",
       "      <td>545</td>\n",
       "      <td>0</td>\n",
       "      <td>0</td>\n",
       "      <td>0</td>\n",
       "      <td>0</td>\n",
       "      <td>0</td>\n",
       "      <td>0.0</td>\n",
       "      <td>0.000000</td>\n",
       "      <td>0</td>\n",
       "      <td>...</td>\n",
       "      <td>0</td>\n",
       "      <td>9.361829e+06</td>\n",
       "      <td>7.324646e+06</td>\n",
       "      <td>18900000</td>\n",
       "      <td>19</td>\n",
       "      <td>12200000.0</td>\n",
       "      <td>6.935824e+06</td>\n",
       "      <td>20800000</td>\n",
       "      <td>5504997</td>\n",
       "      <td>BENIGN</td>\n",
       "    </tr>\n",
       "    <tr>\n",
       "      <td>3</td>\n",
       "      <td>100126</td>\n",
       "      <td>22</td>\n",
       "      <td>0</td>\n",
       "      <td>616</td>\n",
       "      <td>0</td>\n",
       "      <td>28</td>\n",
       "      <td>28</td>\n",
       "      <td>28.0</td>\n",
       "      <td>0.000000</td>\n",
       "      <td>0</td>\n",
       "      <td>...</td>\n",
       "      <td>32</td>\n",
       "      <td>0.000000e+00</td>\n",
       "      <td>0.000000e+00</td>\n",
       "      <td>0</td>\n",
       "      <td>0</td>\n",
       "      <td>0.0</td>\n",
       "      <td>0.000000e+00</td>\n",
       "      <td>0</td>\n",
       "      <td>0</td>\n",
       "      <td>BENIGN</td>\n",
       "    </tr>\n",
       "    <tr>\n",
       "      <td>4</td>\n",
       "      <td>54760</td>\n",
       "      <td>4</td>\n",
       "      <td>0</td>\n",
       "      <td>0</td>\n",
       "      <td>0</td>\n",
       "      <td>0</td>\n",
       "      <td>0</td>\n",
       "      <td>0.0</td>\n",
       "      <td>0.000000</td>\n",
       "      <td>0</td>\n",
       "      <td>...</td>\n",
       "      <td>0</td>\n",
       "      <td>0.000000e+00</td>\n",
       "      <td>0.000000e+00</td>\n",
       "      <td>0</td>\n",
       "      <td>0</td>\n",
       "      <td>0.0</td>\n",
       "      <td>0.000000e+00</td>\n",
       "      <td>0</td>\n",
       "      <td>0</td>\n",
       "      <td>BENIGN</td>\n",
       "    </tr>\n",
       "  </tbody>\n",
       "</table>\n",
       "<p>5 rows × 78 columns</p>\n",
       "</div>"
      ],
      "text/plain": [
       "   FlowDuration  TotalFwdPackets  TotalBackwardPackets  \\\n",
       "0     112740690               32                    16   \n",
       "1     112740560               32                    16   \n",
       "2     113757377              545                     0   \n",
       "3        100126               22                     0   \n",
       "4         54760                4                     0   \n",
       "\n",
       "   TotalLengthofFwdPackets  TotalLengthofBwdPackets  FwdPacketLengthMax  \\\n",
       "0                     6448                     1152                 403   \n",
       "1                     6448                     5056                 403   \n",
       "2                        0                        0                   0   \n",
       "3                      616                        0                  28   \n",
       "4                        0                        0                   0   \n",
       "\n",
       "   FwdPacketLengthMin  FwdPacketLengthMean  FwdPacketLengthStd  \\\n",
       "0                   0                201.5          204.724205   \n",
       "1                   0                201.5          204.724205   \n",
       "2                   0                  0.0            0.000000   \n",
       "3                  28                 28.0            0.000000   \n",
       "4                   0                  0.0            0.000000   \n",
       "\n",
       "   BwdPacketLengthMax  ...  min_seg_size_forward    ActiveMean     ActiveStd  \\\n",
       "0                  72  ...                    32  3.594286e+02  1.199802e+01   \n",
       "1                 316  ...                    32  3.202857e+02  1.574499e+01   \n",
       "2                   0  ...                     0  9.361829e+06  7.324646e+06   \n",
       "3                   0  ...                    32  0.000000e+00  0.000000e+00   \n",
       "4                   0  ...                     0  0.000000e+00  0.000000e+00   \n",
       "\n",
       "   ActiveMax  ActiveMin    IdleMean       IdleStd   IdleMax   IdleMin   Label  \n",
       "0        380        343  16100000.0  4.988048e+05  16400000  15400000  BENIGN  \n",
       "1        330        285  16100000.0  4.987937e+05  16400000  15400000  BENIGN  \n",
       "2   18900000         19  12200000.0  6.935824e+06  20800000   5504997  BENIGN  \n",
       "3          0          0         0.0  0.000000e+00         0         0  BENIGN  \n",
       "4          0          0         0.0  0.000000e+00         0         0  BENIGN  \n",
       "\n",
       "[5 rows x 78 columns]"
      ]
     },
     "execution_count": 2,
     "metadata": {},
     "output_type": "execute_result"
    }
   ],
   "source": [
    "#Dataset importing and display head section\n",
    "\n",
    "dataset = pd.read_csv('FK_Friday_Fixed_Heading.csv')\n",
    "dataset.head()"
   ]
  },
  {
   "cell_type": "markdown",
   "metadata": {},
   "source": [
    "# Converting output variables to binary digits"
   ]
  },
  {
   "cell_type": "code",
   "execution_count": 3,
   "metadata": {},
   "outputs": [],
   "source": [
    "#Converting classification variables to digits\n",
    "# BENIGN to 0 and Bot to 1\n",
    "\n",
    "def con_to_binary(x):\n",
    "    if x=='BENIGN':\n",
    "        return 0\n",
    "    if x=='Bot':\n",
    "        return 1\n",
    "    \n",
    "dataset['Label'] = dataset['Label'].apply(con_to_binary)"
   ]
  },
  {
   "cell_type": "code",
   "execution_count": 4,
   "metadata": {},
   "outputs": [
    {
     "data": {
      "text/html": [
       "<div>\n",
       "<style scoped>\n",
       "    .dataframe tbody tr th:only-of-type {\n",
       "        vertical-align: middle;\n",
       "    }\n",
       "\n",
       "    .dataframe tbody tr th {\n",
       "        vertical-align: top;\n",
       "    }\n",
       "\n",
       "    .dataframe thead th {\n",
       "        text-align: right;\n",
       "    }\n",
       "</style>\n",
       "<table border=\"1\" class=\"dataframe\">\n",
       "  <thead>\n",
       "    <tr style=\"text-align: right;\">\n",
       "      <th></th>\n",
       "      <th>FlowDuration</th>\n",
       "      <th>TotalFwdPackets</th>\n",
       "      <th>TotalBackwardPackets</th>\n",
       "      <th>TotalLengthofFwdPackets</th>\n",
       "      <th>TotalLengthofBwdPackets</th>\n",
       "      <th>FwdPacketLengthMax</th>\n",
       "      <th>FwdPacketLengthMin</th>\n",
       "      <th>FwdPacketLengthMean</th>\n",
       "      <th>FwdPacketLengthStd</th>\n",
       "      <th>BwdPacketLengthMax</th>\n",
       "      <th>...</th>\n",
       "      <th>min_seg_size_forward</th>\n",
       "      <th>ActiveMean</th>\n",
       "      <th>ActiveStd</th>\n",
       "      <th>ActiveMax</th>\n",
       "      <th>ActiveMin</th>\n",
       "      <th>IdleMean</th>\n",
       "      <th>IdleStd</th>\n",
       "      <th>IdleMax</th>\n",
       "      <th>IdleMin</th>\n",
       "      <th>Label</th>\n",
       "    </tr>\n",
       "  </thead>\n",
       "  <tbody>\n",
       "    <tr>\n",
       "      <td>0</td>\n",
       "      <td>112740690</td>\n",
       "      <td>32</td>\n",
       "      <td>16</td>\n",
       "      <td>6448</td>\n",
       "      <td>1152</td>\n",
       "      <td>403</td>\n",
       "      <td>0</td>\n",
       "      <td>201.5</td>\n",
       "      <td>204.724205</td>\n",
       "      <td>72</td>\n",
       "      <td>...</td>\n",
       "      <td>32</td>\n",
       "      <td>3.594286e+02</td>\n",
       "      <td>1.199802e+01</td>\n",
       "      <td>380</td>\n",
       "      <td>343</td>\n",
       "      <td>16100000.0</td>\n",
       "      <td>4.988048e+05</td>\n",
       "      <td>16400000</td>\n",
       "      <td>15400000</td>\n",
       "      <td>0</td>\n",
       "    </tr>\n",
       "    <tr>\n",
       "      <td>1</td>\n",
       "      <td>112740560</td>\n",
       "      <td>32</td>\n",
       "      <td>16</td>\n",
       "      <td>6448</td>\n",
       "      <td>5056</td>\n",
       "      <td>403</td>\n",
       "      <td>0</td>\n",
       "      <td>201.5</td>\n",
       "      <td>204.724205</td>\n",
       "      <td>316</td>\n",
       "      <td>...</td>\n",
       "      <td>32</td>\n",
       "      <td>3.202857e+02</td>\n",
       "      <td>1.574499e+01</td>\n",
       "      <td>330</td>\n",
       "      <td>285</td>\n",
       "      <td>16100000.0</td>\n",
       "      <td>4.987937e+05</td>\n",
       "      <td>16400000</td>\n",
       "      <td>15400000</td>\n",
       "      <td>0</td>\n",
       "    </tr>\n",
       "    <tr>\n",
       "      <td>2</td>\n",
       "      <td>113757377</td>\n",
       "      <td>545</td>\n",
       "      <td>0</td>\n",
       "      <td>0</td>\n",
       "      <td>0</td>\n",
       "      <td>0</td>\n",
       "      <td>0</td>\n",
       "      <td>0.0</td>\n",
       "      <td>0.000000</td>\n",
       "      <td>0</td>\n",
       "      <td>...</td>\n",
       "      <td>0</td>\n",
       "      <td>9.361829e+06</td>\n",
       "      <td>7.324646e+06</td>\n",
       "      <td>18900000</td>\n",
       "      <td>19</td>\n",
       "      <td>12200000.0</td>\n",
       "      <td>6.935824e+06</td>\n",
       "      <td>20800000</td>\n",
       "      <td>5504997</td>\n",
       "      <td>0</td>\n",
       "    </tr>\n",
       "    <tr>\n",
       "      <td>3</td>\n",
       "      <td>100126</td>\n",
       "      <td>22</td>\n",
       "      <td>0</td>\n",
       "      <td>616</td>\n",
       "      <td>0</td>\n",
       "      <td>28</td>\n",
       "      <td>28</td>\n",
       "      <td>28.0</td>\n",
       "      <td>0.000000</td>\n",
       "      <td>0</td>\n",
       "      <td>...</td>\n",
       "      <td>32</td>\n",
       "      <td>0.000000e+00</td>\n",
       "      <td>0.000000e+00</td>\n",
       "      <td>0</td>\n",
       "      <td>0</td>\n",
       "      <td>0.0</td>\n",
       "      <td>0.000000e+00</td>\n",
       "      <td>0</td>\n",
       "      <td>0</td>\n",
       "      <td>0</td>\n",
       "    </tr>\n",
       "    <tr>\n",
       "      <td>4</td>\n",
       "      <td>54760</td>\n",
       "      <td>4</td>\n",
       "      <td>0</td>\n",
       "      <td>0</td>\n",
       "      <td>0</td>\n",
       "      <td>0</td>\n",
       "      <td>0</td>\n",
       "      <td>0.0</td>\n",
       "      <td>0.000000</td>\n",
       "      <td>0</td>\n",
       "      <td>...</td>\n",
       "      <td>0</td>\n",
       "      <td>0.000000e+00</td>\n",
       "      <td>0.000000e+00</td>\n",
       "      <td>0</td>\n",
       "      <td>0</td>\n",
       "      <td>0.0</td>\n",
       "      <td>0.000000e+00</td>\n",
       "      <td>0</td>\n",
       "      <td>0</td>\n",
       "      <td>0</td>\n",
       "    </tr>\n",
       "  </tbody>\n",
       "</table>\n",
       "<p>5 rows × 78 columns</p>\n",
       "</div>"
      ],
      "text/plain": [
       "   FlowDuration  TotalFwdPackets  TotalBackwardPackets  \\\n",
       "0     112740690               32                    16   \n",
       "1     112740560               32                    16   \n",
       "2     113757377              545                     0   \n",
       "3        100126               22                     0   \n",
       "4         54760                4                     0   \n",
       "\n",
       "   TotalLengthofFwdPackets  TotalLengthofBwdPackets  FwdPacketLengthMax  \\\n",
       "0                     6448                     1152                 403   \n",
       "1                     6448                     5056                 403   \n",
       "2                        0                        0                   0   \n",
       "3                      616                        0                  28   \n",
       "4                        0                        0                   0   \n",
       "\n",
       "   FwdPacketLengthMin  FwdPacketLengthMean  FwdPacketLengthStd  \\\n",
       "0                   0                201.5          204.724205   \n",
       "1                   0                201.5          204.724205   \n",
       "2                   0                  0.0            0.000000   \n",
       "3                  28                 28.0            0.000000   \n",
       "4                   0                  0.0            0.000000   \n",
       "\n",
       "   BwdPacketLengthMax  ...  min_seg_size_forward    ActiveMean     ActiveStd  \\\n",
       "0                  72  ...                    32  3.594286e+02  1.199802e+01   \n",
       "1                 316  ...                    32  3.202857e+02  1.574499e+01   \n",
       "2                   0  ...                     0  9.361829e+06  7.324646e+06   \n",
       "3                   0  ...                    32  0.000000e+00  0.000000e+00   \n",
       "4                   0  ...                     0  0.000000e+00  0.000000e+00   \n",
       "\n",
       "   ActiveMax  ActiveMin    IdleMean       IdleStd   IdleMax   IdleMin  Label  \n",
       "0        380        343  16100000.0  4.988048e+05  16400000  15400000      0  \n",
       "1        330        285  16100000.0  4.987937e+05  16400000  15400000      0  \n",
       "2   18900000         19  12200000.0  6.935824e+06  20800000   5504997      0  \n",
       "3          0          0         0.0  0.000000e+00         0         0      0  \n",
       "4          0          0         0.0  0.000000e+00         0         0      0  \n",
       "\n",
       "[5 rows x 78 columns]"
      ]
     },
     "execution_count": 4,
     "metadata": {},
     "output_type": "execute_result"
    }
   ],
   "source": [
    "dataset.head()"
   ]
  },
  {
   "cell_type": "code",
   "execution_count": 5,
   "metadata": {},
   "outputs": [
    {
     "data": {
      "text/plain": [
       "(191033, 78)"
      ]
     },
     "execution_count": 5,
     "metadata": {},
     "output_type": "execute_result"
    }
   ],
   "source": [
    "dataset.shape"
   ]
  },
  {
   "cell_type": "markdown",
   "metadata": {},
   "source": [
    "## Selecting the top ten features which are extracted from Random Forest classifier\n",
    "\n",
    "1. BwdPacketLengthMean\n",
    "2. Init_Win_bytes_forward\n",
    "3. AvgBwdSegmentSize\n",
    "4. Init_Win_bytes_backward\n",
    "5. AveragePacketSize\n",
    "6. TotalLengthofBwdPackets\n",
    "7. SubflowBwdBytes\n",
    "8. BwdPackets/s\n",
    "9. PacketLengthMean\n",
    "10. BwdPacketLengthMax"
   ]
  },
  {
   "cell_type": "code",
   "execution_count": 6,
   "metadata": {},
   "outputs": [],
   "source": [
    "#creating a dataframe to select the data containing above features and 'Label' column (target variable)\n",
    "\n",
    "df =dataset[['BwdPacketLengthMean','Init_Win_bytes_forward', 'AvgBwdSegmentSize','Init_Win_bytes_backward','AveragePacketSize','TotalLengthofBwdPackets','SubflowBwdBytes','BwdPackets/s','PacketLengthMean','BwdPacketLengthMax','Label']]"
   ]
  },
  {
   "cell_type": "code",
   "execution_count": 7,
   "metadata": {},
   "outputs": [
    {
     "data": {
      "text/html": [
       "<div>\n",
       "<style scoped>\n",
       "    .dataframe tbody tr th:only-of-type {\n",
       "        vertical-align: middle;\n",
       "    }\n",
       "\n",
       "    .dataframe tbody tr th {\n",
       "        vertical-align: top;\n",
       "    }\n",
       "\n",
       "    .dataframe thead th {\n",
       "        text-align: right;\n",
       "    }\n",
       "</style>\n",
       "<table border=\"1\" class=\"dataframe\">\n",
       "  <thead>\n",
       "    <tr style=\"text-align: right;\">\n",
       "      <th></th>\n",
       "      <th>BwdPacketLengthMean</th>\n",
       "      <th>Init_Win_bytes_forward</th>\n",
       "      <th>AvgBwdSegmentSize</th>\n",
       "      <th>Init_Win_bytes_backward</th>\n",
       "      <th>AveragePacketSize</th>\n",
       "      <th>TotalLengthofBwdPackets</th>\n",
       "      <th>SubflowBwdBytes</th>\n",
       "      <th>BwdPackets/s</th>\n",
       "      <th>PacketLengthMean</th>\n",
       "      <th>BwdPacketLengthMax</th>\n",
       "      <th>Label</th>\n",
       "    </tr>\n",
       "  </thead>\n",
       "  <tbody>\n",
       "    <tr>\n",
       "      <td>0</td>\n",
       "      <td>72.0</td>\n",
       "      <td>377</td>\n",
       "      <td>72.0</td>\n",
       "      <td>2079</td>\n",
       "      <td>166.729167</td>\n",
       "      <td>1152</td>\n",
       "      <td>1152</td>\n",
       "      <td>0.141919</td>\n",
       "      <td>163.326531</td>\n",
       "      <td>72</td>\n",
       "      <td>0</td>\n",
       "    </tr>\n",
       "    <tr>\n",
       "      <td>1</td>\n",
       "      <td>316.0</td>\n",
       "      <td>955</td>\n",
       "      <td>316.0</td>\n",
       "      <td>2079</td>\n",
       "      <td>248.062500</td>\n",
       "      <td>5056</td>\n",
       "      <td>5056</td>\n",
       "      <td>0.141919</td>\n",
       "      <td>243.000000</td>\n",
       "      <td>316</td>\n",
       "      <td>0</td>\n",
       "    </tr>\n",
       "    <tr>\n",
       "      <td>2</td>\n",
       "      <td>0.0</td>\n",
       "      <td>-1</td>\n",
       "      <td>0.0</td>\n",
       "      <td>-1</td>\n",
       "      <td>0.000000</td>\n",
       "      <td>0</td>\n",
       "      <td>0</td>\n",
       "      <td>0.000000</td>\n",
       "      <td>0.000000</td>\n",
       "      <td>0</td>\n",
       "      <td>0</td>\n",
       "    </tr>\n",
       "    <tr>\n",
       "      <td>3</td>\n",
       "      <td>0.0</td>\n",
       "      <td>-1</td>\n",
       "      <td>0.0</td>\n",
       "      <td>-1</td>\n",
       "      <td>29.272727</td>\n",
       "      <td>0</td>\n",
       "      <td>0</td>\n",
       "      <td>0.000000</td>\n",
       "      <td>28.000000</td>\n",
       "      <td>0</td>\n",
       "      <td>0</td>\n",
       "    </tr>\n",
       "    <tr>\n",
       "      <td>4</td>\n",
       "      <td>0.0</td>\n",
       "      <td>-1</td>\n",
       "      <td>0.0</td>\n",
       "      <td>-1</td>\n",
       "      <td>0.000000</td>\n",
       "      <td>0</td>\n",
       "      <td>0</td>\n",
       "      <td>0.000000</td>\n",
       "      <td>0.000000</td>\n",
       "      <td>0</td>\n",
       "      <td>0</td>\n",
       "    </tr>\n",
       "  </tbody>\n",
       "</table>\n",
       "</div>"
      ],
      "text/plain": [
       "   BwdPacketLengthMean  Init_Win_bytes_forward  AvgBwdSegmentSize  \\\n",
       "0                 72.0                     377               72.0   \n",
       "1                316.0                     955              316.0   \n",
       "2                  0.0                      -1                0.0   \n",
       "3                  0.0                      -1                0.0   \n",
       "4                  0.0                      -1                0.0   \n",
       "\n",
       "   Init_Win_bytes_backward  AveragePacketSize  TotalLengthofBwdPackets  \\\n",
       "0                     2079         166.729167                     1152   \n",
       "1                     2079         248.062500                     5056   \n",
       "2                       -1           0.000000                        0   \n",
       "3                       -1          29.272727                        0   \n",
       "4                       -1           0.000000                        0   \n",
       "\n",
       "   SubflowBwdBytes  BwdPackets/s  PacketLengthMean  BwdPacketLengthMax  Label  \n",
       "0             1152      0.141919        163.326531                  72      0  \n",
       "1             5056      0.141919        243.000000                 316      0  \n",
       "2                0      0.000000          0.000000                   0      0  \n",
       "3                0      0.000000         28.000000                   0      0  \n",
       "4                0      0.000000          0.000000                   0      0  "
      ]
     },
     "execution_count": 7,
     "metadata": {},
     "output_type": "execute_result"
    }
   ],
   "source": [
    "df.head()"
   ]
  },
  {
   "cell_type": "code",
   "execution_count": 8,
   "metadata": {},
   "outputs": [
    {
     "data": {
      "text/plain": [
       "(191033, 11)"
      ]
     },
     "execution_count": 8,
     "metadata": {},
     "output_type": "execute_result"
    }
   ],
   "source": [
    "df.shape"
   ]
  },
  {
   "cell_type": "markdown",
   "metadata": {},
   "source": [
    "#### The above number of rows - 191033 from 'df' is matching with actual 'dataset' "
   ]
  },
  {
   "cell_type": "markdown",
   "metadata": {},
   "source": [
    "## Defining dependent and independent variables"
   ]
  },
  {
   "cell_type": "code",
   "execution_count": 9,
   "metadata": {},
   "outputs": [
    {
     "name": "stdout",
     "output_type": "stream",
     "text": [
      "(191033, 10)\n",
      "(191033,)\n"
     ]
    }
   ],
   "source": [
    "#Assigning X as independent variable and y as target variable\n",
    "\n",
    "X = df.drop(columns='Label')\n",
    "y = df.iloc[:,10]\n",
    "\n",
    "#Checking the shape of X and y variables\n",
    "\n",
    "print(X.shape)\n",
    "print(y.shape)"
   ]
  },
  {
   "cell_type": "markdown",
   "metadata": {},
   "source": [
    "### Checking the count of target variables - 0 and 1"
   ]
  },
  {
   "cell_type": "code",
   "execution_count": 10,
   "metadata": {},
   "outputs": [
    {
     "data": {
      "text/plain": [
       "0    189067\n",
       "1      1966\n",
       "Name: Label, dtype: int64"
      ]
     },
     "execution_count": 10,
     "metadata": {},
     "output_type": "execute_result"
    }
   ],
   "source": [
    "df.Label.value_counts()"
   ]
  },
  {
   "cell_type": "markdown",
   "metadata": {},
   "source": [
    "## Handling imbalanced dataset using SMOTETomek method for balancing the target variables\n",
    "## This will perform over-sampling using SMOTE and cleaning using Tomek links."
   ]
  },
  {
   "cell_type": "code",
   "execution_count": 11,
   "metadata": {},
   "outputs": [
    {
     "name": "stderr",
     "output_type": "stream",
     "text": [
      "Using TensorFlow backend.\n"
     ]
    }
   ],
   "source": [
    "# Implementing SMOTETomek method with random state as '123'and fitting this to X and y variables \n",
    "\n",
    "from imblearn.combine import SMOTETomek\n",
    "smk = SMOTETomek(random_state=123)\n",
    "X_res,y_res=smk.fit_sample(X,y)"
   ]
  },
  {
   "cell_type": "code",
   "execution_count": 12,
   "metadata": {},
   "outputs": [
    {
     "data": {
      "text/plain": [
       "((191033, 10), (191033,))"
      ]
     },
     "execution_count": 12,
     "metadata": {},
     "output_type": "execute_result"
    }
   ],
   "source": [
    "#Shapes of original data\n",
    "(X.shape), (y.shape)"
   ]
  },
  {
   "cell_type": "code",
   "execution_count": 13,
   "metadata": {},
   "outputs": [
    {
     "data": {
      "text/plain": [
       "((377886, 10), (377886,))"
      ]
     },
     "execution_count": 13,
     "metadata": {},
     "output_type": "execute_result"
    }
   ],
   "source": [
    "#Shapes of resampled data after applying SMOTETomek\n",
    "(X_res.shape), (y_res.shape)"
   ]
  },
  {
   "cell_type": "markdown",
   "metadata": {},
   "source": [
    "## The below result shows we got equal number of target variable classifiers"
   ]
  },
  {
   "cell_type": "code",
   "execution_count": 14,
   "metadata": {},
   "outputs": [
    {
     "name": "stdout",
     "output_type": "stream",
     "text": [
      "Number of classified rows in y_res Counter({0: 188943, 1: 188943})\n"
     ]
    }
   ],
   "source": [
    "#Count of y_res for Benign:0 and Bot:1 after resampling  \n",
    "\n",
    "from collections import Counter\n",
    "print('Number of classified rows in y_res {}'.format(Counter(y_res)))"
   ]
  },
  {
   "cell_type": "markdown",
   "metadata": {},
   "source": [
    "## RandomSearchCV application for tuning best parameters using XGBoost classifier"
   ]
  },
  {
   "cell_type": "code",
   "execution_count": 15,
   "metadata": {},
   "outputs": [],
   "source": [
    "#Importing Randomsearch cross validation\n",
    "from sklearn.model_selection import RandomizedSearchCV"
   ]
  },
  {
   "cell_type": "code",
   "execution_count": 16,
   "metadata": {},
   "outputs": [],
   "source": [
    "#Assigning variable to XGB Classifier\n",
    "import xgboost as xgb\n",
    "classifier=xgb.XGBClassifier()"
   ]
  },
  {
   "cell_type": "markdown",
   "metadata": {},
   "source": [
    "## Hyperparameter tuning "
   ]
  },
  {
   "cell_type": "code",
   "execution_count": 17,
   "metadata": {},
   "outputs": [],
   "source": [
    "#Hyperparameter optimization\n",
    "\n",
    "parameters={\n",
    " \"learning_rate\"    : [0.05, 0.10, 0.15, 0.20, 0.25, 0.30 ] ,\n",
    " \"max_depth\"        : [ 3, 4, 5, 6, 8, 10, 12, 15, 18, 20],\n",
    " \"min_child_weight\" : [ 1, 3, 5, 7, 8 ],\n",
    " \"gamma\"            : [ 0.0, 0.1, 0.2 , 0.3, 0.4, 0.5 ],\n",
    " \"colsample_bytree\" : [ 0.3, 0.4, 0.5 , 0.7, 0.9 ]   \n",
    "}"
   ]
  },
  {
   "cell_type": "code",
   "execution_count": 18,
   "metadata": {},
   "outputs": [],
   "source": [
    "#Providing XGBoost classifier to random search cross validation for selecting best parameters\n",
    "#Choose 'recall' considering the fact to evaluate false negatives  \n",
    "\n",
    "random_search=RandomizedSearchCV(classifier,param_distributions=parameters,n_iter=5,scoring='recall',n_jobs=-1,cv=10,verbose=3)"
   ]
  },
  {
   "cell_type": "code",
   "execution_count": 19,
   "metadata": {},
   "outputs": [
    {
     "name": "stdout",
     "output_type": "stream",
     "text": [
      "Fitting 10 folds for each of 5 candidates, totalling 50 fits\n"
     ]
    },
    {
     "name": "stderr",
     "output_type": "stream",
     "text": [
      "[Parallel(n_jobs=-1)]: Using backend LokyBackend with 8 concurrent workers.\n",
      "[Parallel(n_jobs=-1)]: Done  16 tasks      | elapsed:  3.7min\n",
      "[Parallel(n_jobs=-1)]: Done  50 out of  50 | elapsed: 11.9min finished\n"
     ]
    },
    {
     "data": {
      "text/plain": [
       "RandomizedSearchCV(cv=10, error_score=nan,\n",
       "                   estimator=XGBClassifier(base_score=None, booster=None,\n",
       "                                           colsample_bylevel=None,\n",
       "                                           colsample_bynode=None,\n",
       "                                           colsample_bytree=None, gamma=None,\n",
       "                                           gpu_id=None, importance_type='gain',\n",
       "                                           interaction_constraints=None,\n",
       "                                           learning_rate=None,\n",
       "                                           max_delta_step=None, max_depth=None,\n",
       "                                           min_child_weight=None, missing=nan,\n",
       "                                           monotone_constraints=None,...\n",
       "                   iid='deprecated', n_iter=5, n_jobs=-1,\n",
       "                   param_distributions={'colsample_bytree': [0.3, 0.4, 0.5, 0.7,\n",
       "                                                             0.9],\n",
       "                                        'gamma': [0.0, 0.1, 0.2, 0.3, 0.4, 0.5],\n",
       "                                        'learning_rate': [0.05, 0.1, 0.15, 0.2,\n",
       "                                                          0.25, 0.3],\n",
       "                                        'max_depth': [3, 4, 5, 6, 8, 10, 12, 15,\n",
       "                                                      18, 20],\n",
       "                                        'min_child_weight': [1, 3, 5, 7, 8]},\n",
       "                   pre_dispatch='2*n_jobs', random_state=None, refit=True,\n",
       "                   return_train_score=False, scoring='recall', verbose=3)"
      ]
     },
     "execution_count": 19,
     "metadata": {},
     "output_type": "execute_result"
    }
   ],
   "source": [
    "#Implementing random search CV by providing input features (X_res,y_res) of resampled data\n",
    "\n",
    "random_search.fit(X_res,y_res)"
   ]
  },
  {
   "cell_type": "markdown",
   "metadata": {},
   "source": [
    "### Results of optimized parameters "
   ]
  },
  {
   "cell_type": "code",
   "execution_count": 20,
   "metadata": {},
   "outputs": [
    {
     "data": {
      "text/plain": [
       "XGBClassifier(base_score=0.5, booster=None, colsample_bylevel=1,\n",
       "              colsample_bynode=1, colsample_bytree=0.9, gamma=0.1, gpu_id=-1,\n",
       "              importance_type='gain', interaction_constraints=None,\n",
       "              learning_rate=0.05, max_delta_step=0, max_depth=12,\n",
       "              min_child_weight=5, missing=nan, monotone_constraints=None,\n",
       "              n_estimators=100, n_jobs=0, num_parallel_tree=1,\n",
       "              objective='binary:logistic', random_state=0, reg_alpha=0,\n",
       "              reg_lambda=1, scale_pos_weight=1, subsample=1, tree_method=None,\n",
       "              validate_parameters=False, verbosity=None)"
      ]
     },
     "execution_count": 20,
     "metadata": {},
     "output_type": "execute_result"
    }
   ],
   "source": [
    "#Paramaters estimator and optimized results\n",
    "\n",
    "random_search.best_estimator_"
   ]
  },
  {
   "cell_type": "code",
   "execution_count": 17,
   "metadata": {},
   "outputs": [],
   "source": [
    "#Assigning a variable 'gbm' for modeling XGBclassifier\n",
    "\n",
    "gbm = xgb.XGBClassifier(base_score=0.5, booster=None, colsample_bylevel=1,\n",
    "              colsample_bynode=1, colsample_bytree=0.9, gamma=0.1, gpu_id=-1,\n",
    "              importance_type='gain', interaction_constraints=None,\n",
    "              learning_rate=0.05, max_delta_step=0, max_depth=12,\n",
    "              min_child_weight=5, monotone_constraints=None,\n",
    "              n_estimators=100, n_jobs=0, num_parallel_tree=1,\n",
    "              objective='binary:logistic', random_state=0, reg_alpha=0,\n",
    "              reg_lambda=1, scale_pos_weight=1, subsample=1, tree_method=None,\n",
    "              validate_parameters=False, verbosity=None)"
   ]
  },
  {
   "cell_type": "code",
   "execution_count": 18,
   "metadata": {},
   "outputs": [],
   "source": [
    "from sklearn.metrics import accuracy_score "
   ]
  },
  {
   "cell_type": "markdown",
   "metadata": {},
   "source": [
    "### Implementing Stratified K-fold cross validation\n",
    "### This model selects the target variables (0 and 1 ) in same proportion to enhance model accuracy and reduce overfitting"
   ]
  },
  {
   "cell_type": "code",
   "execution_count": 19,
   "metadata": {},
   "outputs": [
    {
     "name": "stderr",
     "output_type": "stream",
     "text": [
      "C:\\Users\\adity\\Anaconda3\\lib\\site-packages\\sklearn\\model_selection\\_split.py:296: FutureWarning: Setting a random_state has no effect since shuffle is False. This will raise an error in 0.24. You should leave random_state to its default (None), or set shuffle=True.\n",
      "  FutureWarning\n"
     ]
    },
    {
     "name": "stdout",
     "output_type": "stream",
     "text": [
      "[0.9944429743318338, 0.9981476581106112, 0.9973537973008733, 0.9997353797300873, 0.999206139190262, 0.9997353797300873, 0.9981476581106112, 0.9997353797300873, 0.999206139190262, 0.9997353797300873, 0.9994707594601746, 0.9997353797300873, 0.9994707594601746, 0.997618417570786, 0.9994707594601746, 0.9997353797300873, 0.999206139190262, 0.9997353797300873, 0.9970891770309606, 1.0, 0.9986768986504366, 0.9997353797300873, 0.9997353797300873, 0.9984122783805239, 1.0, 0.9994707594601746, 0.9986768986504366, 1.0, 0.999206139190262, 0.999206139190262, 0.9984122783805239, 0.9997353797300873, 0.9997353797300873, 0.9986768986504366, 0.9984122783805239, 1.0, 0.9994707594601746, 1.0, 0.999206139190262, 0.9997353797300873, 0.999206139190262, 1.0, 1.0, 1.0, 1.0, 0.9997353797300873, 0.9997353797300873, 0.9994707594601746, 0.9997353797300873, 0.9997353797300873, 0.9986768986504366, 1.0, 0.9981476581106112, 1.0, 0.9978830378406987, 0.9989415189203493, 0.999206139190262, 0.999206139190262, 0.9994707594601746, 0.9989415189203493, 0.9997353797300873, 0.999206139190262, 0.9997353797300873, 1.0, 1.0, 0.9978830378406987, 0.9994707594601746, 0.9994707594601746, 0.999206139190262, 0.9997353797300873, 0.9984122783805239, 1.0, 0.9981476581106112, 0.9994707594601746, 0.9997353797300873, 0.9994707594601746, 1.0, 1.0, 0.9997353797300873, 0.9986768986504366, 0.9994707594601746, 0.9978830378406987, 1.0, 0.9997353797300873, 0.9997353797300873, 0.999206139190262, 0.9997353096876654, 0.9992059290629963, 1.0, 1.0, 0.9992059290629963, 0.9997353096876654, 0.9997353096876654, 0.9978824775013234, 0.9992059290629963, 1.0, 0.9984118581259925, 0.9986765484383272, 0.9989412387506618, 0.9986765484383272]\n"
     ]
    }
   ],
   "source": [
    "#Importing Stratified K fold cross validation \n",
    "\n",
    "from sklearn.model_selection import StratifiedKFold\n",
    "\n",
    "#Creating 'accuracy' list\n",
    "accuracy=[]\n",
    "\n",
    "#Implementing Stratified K fold CV with 100 folds and random state = 123\n",
    "\n",
    "skf=StratifiedKFold(n_splits=100, random_state=123)\n",
    "skf.get_n_splits(X_res,y_res)\n",
    "\n",
    "#Splitting the dataset to training and testing\n",
    "for train_index, test_index in skf.split(X_res,y_res):\n",
    "    X_train, X_test = X_res.iloc[train_index], X_res.iloc[test_index]\n",
    "    y_train, y_test = y_res.iloc[train_index], y_res.iloc[test_index]\n",
    "    \n",
    "    model = gbm.fit(X_train, y_train,eval_metric=[\"error\"])\n",
    "    \n",
    "    predictions = gbm.predict(X_test)\n",
    "    score_val=accuracy_score(y_test, predictions)\n",
    "    accuracy.append(score_val)\n",
    "    \n",
    "print(accuracy) \n",
    "   "
   ]
  },
  {
   "cell_type": "code",
   "execution_count": 21,
   "metadata": {},
   "outputs": [
    {
     "name": "stdout",
     "output_type": "stream",
     "text": [
      "[0]\tvalidation_0-error:0.00703\tvalidation_1-error:0.00900\n",
      "[1]\tvalidation_0-error:0.00438\tvalidation_1-error:0.00662\n",
      "[2]\tvalidation_0-error:0.00294\tvalidation_1-error:0.00556\n",
      "[3]\tvalidation_0-error:0.00297\tvalidation_1-error:0.00503\n",
      "[4]\tvalidation_0-error:0.00309\tvalidation_1-error:0.00688\n",
      "[5]\tvalidation_0-error:0.00381\tvalidation_1-error:0.00847\n",
      "[6]\tvalidation_0-error:0.00376\tvalidation_1-error:0.00847\n",
      "[7]\tvalidation_0-error:0.00300\tvalidation_1-error:0.00688\n",
      "[8]\tvalidation_0-error:0.00270\tvalidation_1-error:0.00529\n",
      "[9]\tvalidation_0-error:0.00279\tvalidation_1-error:0.00529\n",
      "[10]\tvalidation_0-error:0.00279\tvalidation_1-error:0.00529\n",
      "[11]\tvalidation_0-error:0.00290\tvalidation_1-error:0.00662\n",
      "[12]\tvalidation_0-error:0.00293\tvalidation_1-error:0.00662\n",
      "[13]\tvalidation_0-error:0.00261\tvalidation_1-error:0.00503\n",
      "[14]\tvalidation_0-error:0.00238\tvalidation_1-error:0.00503\n",
      "[15]\tvalidation_0-error:0.00218\tvalidation_1-error:0.00344\n",
      "[16]\tvalidation_0-error:0.00216\tvalidation_1-error:0.00344\n",
      "[17]\tvalidation_0-error:0.00221\tvalidation_1-error:0.00397\n",
      "[18]\tvalidation_0-error:0.00223\tvalidation_1-error:0.00397\n",
      "[19]\tvalidation_0-error:0.00224\tvalidation_1-error:0.00397\n",
      "[20]\tvalidation_0-error:0.00216\tvalidation_1-error:0.00344\n",
      "[21]\tvalidation_0-error:0.00220\tvalidation_1-error:0.00344\n",
      "[22]\tvalidation_0-error:0.00216\tvalidation_1-error:0.00344\n",
      "[23]\tvalidation_0-error:0.00217\tvalidation_1-error:0.00344\n",
      "[24]\tvalidation_0-error:0.00215\tvalidation_1-error:0.00344\n",
      "[25]\tvalidation_0-error:0.00216\tvalidation_1-error:0.00344\n",
      "[26]\tvalidation_0-error:0.00211\tvalidation_1-error:0.00344\n",
      "[27]\tvalidation_0-error:0.00211\tvalidation_1-error:0.00344\n",
      "[28]\tvalidation_0-error:0.00209\tvalidation_1-error:0.00344\n",
      "[29]\tvalidation_0-error:0.00210\tvalidation_1-error:0.00344\n",
      "[30]\tvalidation_0-error:0.00210\tvalidation_1-error:0.00344\n",
      "[31]\tvalidation_0-error:0.00179\tvalidation_1-error:0.00212\n",
      "[32]\tvalidation_0-error:0.00179\tvalidation_1-error:0.00212\n",
      "[33]\tvalidation_0-error:0.00179\tvalidation_1-error:0.00212\n",
      "[34]\tvalidation_0-error:0.00177\tvalidation_1-error:0.00212\n",
      "[35]\tvalidation_0-error:0.00175\tvalidation_1-error:0.00238\n",
      "[36]\tvalidation_0-error:0.00175\tvalidation_1-error:0.00238\n",
      "[37]\tvalidation_0-error:0.00175\tvalidation_1-error:0.00238\n",
      "[38]\tvalidation_0-error:0.00174\tvalidation_1-error:0.00238\n",
      "[39]\tvalidation_0-error:0.00158\tvalidation_1-error:0.00238\n",
      "[40]\tvalidation_0-error:0.00156\tvalidation_1-error:0.00238\n",
      "[41]\tvalidation_0-error:0.00156\tvalidation_1-error:0.00238\n",
      "[42]\tvalidation_0-error:0.00156\tvalidation_1-error:0.00238\n",
      "[43]\tvalidation_0-error:0.00156\tvalidation_1-error:0.00238\n",
      "[44]\tvalidation_0-error:0.00154\tvalidation_1-error:0.00238\n",
      "[45]\tvalidation_0-error:0.00154\tvalidation_1-error:0.00238\n",
      "[46]\tvalidation_0-error:0.00146\tvalidation_1-error:0.00238\n",
      "[47]\tvalidation_0-error:0.00146\tvalidation_1-error:0.00238\n",
      "[48]\tvalidation_0-error:0.00139\tvalidation_1-error:0.00238\n",
      "[49]\tvalidation_0-error:0.00141\tvalidation_1-error:0.00212\n",
      "[50]\tvalidation_0-error:0.00138\tvalidation_1-error:0.00212\n",
      "[51]\tvalidation_0-error:0.00137\tvalidation_1-error:0.00212\n",
      "[52]\tvalidation_0-error:0.00137\tvalidation_1-error:0.00212\n",
      "[53]\tvalidation_0-error:0.00137\tvalidation_1-error:0.00212\n",
      "[54]\tvalidation_0-error:0.00137\tvalidation_1-error:0.00212\n",
      "[55]\tvalidation_0-error:0.00131\tvalidation_1-error:0.00212\n",
      "[56]\tvalidation_0-error:0.00129\tvalidation_1-error:0.00212\n",
      "[57]\tvalidation_0-error:0.00129\tvalidation_1-error:0.00212\n",
      "[58]\tvalidation_0-error:0.00129\tvalidation_1-error:0.00185\n",
      "[59]\tvalidation_0-error:0.00129\tvalidation_1-error:0.00185\n",
      "[60]\tvalidation_0-error:0.00128\tvalidation_1-error:0.00185\n",
      "[61]\tvalidation_0-error:0.00128\tvalidation_1-error:0.00185\n",
      "[62]\tvalidation_0-error:0.00128\tvalidation_1-error:0.00185\n",
      "[63]\tvalidation_0-error:0.00127\tvalidation_1-error:0.00185\n",
      "[64]\tvalidation_0-error:0.00125\tvalidation_1-error:0.00185\n",
      "[65]\tvalidation_0-error:0.00123\tvalidation_1-error:0.00185\n",
      "[66]\tvalidation_0-error:0.00120\tvalidation_1-error:0.00185\n",
      "[67]\tvalidation_0-error:0.00120\tvalidation_1-error:0.00185\n",
      "[68]\tvalidation_0-error:0.00112\tvalidation_1-error:0.00159\n",
      "[69]\tvalidation_0-error:0.00105\tvalidation_1-error:0.00159\n",
      "[70]\tvalidation_0-error:0.00106\tvalidation_1-error:0.00159\n",
      "[71]\tvalidation_0-error:0.00106\tvalidation_1-error:0.00159\n",
      "[72]\tvalidation_0-error:0.00096\tvalidation_1-error:0.00159\n",
      "[73]\tvalidation_0-error:0.00096\tvalidation_1-error:0.00159\n",
      "[74]\tvalidation_0-error:0.00098\tvalidation_1-error:0.00159\n",
      "[75]\tvalidation_0-error:0.00101\tvalidation_1-error:0.00159\n",
      "[76]\tvalidation_0-error:0.00091\tvalidation_1-error:0.00159\n",
      "[77]\tvalidation_0-error:0.00091\tvalidation_1-error:0.00159\n",
      "[78]\tvalidation_0-error:0.00086\tvalidation_1-error:0.00159\n",
      "[79]\tvalidation_0-error:0.00084\tvalidation_1-error:0.00159\n",
      "[80]\tvalidation_0-error:0.00080\tvalidation_1-error:0.00159\n",
      "[81]\tvalidation_0-error:0.00078\tvalidation_1-error:0.00159\n",
      "[82]\tvalidation_0-error:0.00076\tvalidation_1-error:0.00159\n",
      "[83]\tvalidation_0-error:0.00076\tvalidation_1-error:0.00159\n",
      "[84]\tvalidation_0-error:0.00076\tvalidation_1-error:0.00159\n",
      "[85]\tvalidation_0-error:0.00074\tvalidation_1-error:0.00159\n",
      "[86]\tvalidation_0-error:0.00074\tvalidation_1-error:0.00159\n",
      "[87]\tvalidation_0-error:0.00074\tvalidation_1-error:0.00159\n",
      "[88]\tvalidation_0-error:0.00073\tvalidation_1-error:0.00159\n",
      "[89]\tvalidation_0-error:0.00071\tvalidation_1-error:0.00159\n",
      "[90]\tvalidation_0-error:0.00069\tvalidation_1-error:0.00159\n",
      "[91]\tvalidation_0-error:0.00067\tvalidation_1-error:0.00159\n",
      "[92]\tvalidation_0-error:0.00069\tvalidation_1-error:0.00159\n",
      "[93]\tvalidation_0-error:0.00069\tvalidation_1-error:0.00159\n",
      "[94]\tvalidation_0-error:0.00070\tvalidation_1-error:0.00159\n",
      "[95]\tvalidation_0-error:0.00069\tvalidation_1-error:0.00132\n",
      "[96]\tvalidation_0-error:0.00067\tvalidation_1-error:0.00132\n",
      "[97]\tvalidation_0-error:0.00067\tvalidation_1-error:0.00132\n",
      "[98]\tvalidation_0-error:0.00066\tvalidation_1-error:0.00132\n",
      "[99]\tvalidation_0-error:0.00066\tvalidation_1-error:0.00132\n"
     ]
    }
   ],
   "source": [
    "eval_set = [(X_train, y_train), (X_test, y_test)]\n",
    "model = gbm.fit(X_train, y_train,eval_metric=[\"error\"], eval_set=eval_set)"
   ]
  },
  {
   "cell_type": "code",
   "execution_count": 30,
   "metadata": {},
   "outputs": [
    {
     "data": {
      "image/png": "[encoded data removed]",
      "text/plain": [
       "<Figure size 864x576 with 1 Axes>"
      ]
     },
     "metadata": {
      "needs_background": "light"
     },
     "output_type": "display_data"
    }
   ],
   "source": [
    "\n",
    "results = gbm.evals_result()\n",
    "epochs = len(results['validation_0']['error'])\n",
    "x_axis = range(0, epochs)\n",
    "\n",
    "# plot classification error\n",
    "fig, ax = plt.subplots(figsize=(12,8))\n",
    "ax.plot(x_axis, results['validation_0']['error'], label='Train')\n",
    "ax.plot(x_axis, results['validation_1']['error'], label='Test')\n",
    "ax.legend()\n",
    "plt.ylabel('Classification Error')\n",
    "plt.title('XGBoost Classification Error')\n",
    "plt.show()"
   ]
  },
  {
   "cell_type": "code",
   "execution_count": 31,
   "metadata": {},
   "outputs": [
    {
     "data": {
      "text/plain": [
       "0.9992510966191783"
      ]
     },
     "execution_count": 31,
     "metadata": {},
     "output_type": "execute_result"
    }
   ],
   "source": [
    "#Average accuracy evaluation\n",
    "np.array(accuracy).mean()"
   ]
  },
  {
   "cell_type": "code",
   "execution_count": 33,
   "metadata": {},
   "outputs": [
    {
     "data": {
      "text/plain": [
       "0.9993424358741326"
      ]
     },
     "execution_count": 33,
     "metadata": {},
     "output_type": "execute_result"
    }
   ],
   "source": [
    "#train accuracy\n",
    "train_acc=accuracy_score(y_train, gbm.predict(X_train))\n",
    "train_acc"
   ]
  },
  {
   "cell_type": "markdown",
   "metadata": {},
   "source": [
    "### Display classification report and confusion matrix"
   ]
  },
  {
   "cell_type": "code",
   "execution_count": 34,
   "metadata": {},
   "outputs": [
    {
     "name": "stdout",
     "output_type": "stream",
     "text": [
      "[[1884    5]\n",
      " [   0 1889]]\n",
      "              precision    recall  f1-score   support\n",
      "\n",
      "           0      1.000     0.997     0.999      1889\n",
      "           1      0.997     1.000     0.999      1889\n",
      "\n",
      "    accuracy                          0.999      3778\n",
      "   macro avg      0.999     0.999     0.999      3778\n",
      "weighted avg      0.999     0.999     0.999      3778\n",
      "\n"
     ]
    }
   ],
   "source": [
    "# Confusion matrix\n",
    "from sklearn.metrics import confusion_matrix\n",
    "print(confusion_matrix(y_test, predictions))\n",
    "\n",
    "#Classification report\n",
    "from sklearn.metrics import classification_report\n",
    "print(classification_report(y_test, predictions, digits=3))"
   ]
  },
  {
   "cell_type": "code",
   "execution_count": 26,
   "metadata": {},
   "outputs": [
    {
     "name": "stdout",
     "output_type": "stream",
     "text": [
      "X_train: (374108, 10)\n",
      "y_train: (374108,)\n",
      "X_test: (3778, 10)\n",
      "y_test: (3778,)\n"
     ]
    }
   ],
   "source": [
    "#Shapes of train and test data\n",
    "print('X_train:', X_train.shape)\n",
    "print('y_train:', y_train.shape)\n",
    "print('X_test:', X_test.shape)\n",
    "print('y_test:', y_test.shape)"
   ]
  },
  {
   "cell_type": "markdown",
   "metadata": {},
   "source": [
    "## Plotting Precision - Recall curve "
   ]
  },
  {
   "cell_type": "code",
   "execution_count": 27,
   "metadata": {},
   "outputs": [
    {
     "data": {
      "text/plain": [
       "0.9973600844772967"
      ]
     },
     "execution_count": 27,
     "metadata": {},
     "output_type": "execute_result"
    }
   ],
   "source": [
    "#Average precision score evaluation on test and prediction results\n",
    "\n",
    "from sklearn.metrics import average_precision_score\n",
    "avg_precision = average_precision_score(y_test, predictions)\n",
    "avg_precision"
   ]
  },
  {
   "cell_type": "code",
   "execution_count": 28,
   "metadata": {},
   "outputs": [
    {
     "data": {
      "text/plain": [
       "Text(0.5, 1.0, 'Precision-Recall curve: ')"
      ]
     },
     "execution_count": 28,
     "metadata": {},
     "output_type": "execute_result"
    },
    {
     "data": {
      "image/png": "[encoded data removed]",
      "text/plain": [
       "<Figure size 432x288 with 1 Axes>"
      ]
     },
     "metadata": {
      "needs_background": "light"
     },
     "output_type": "display_data"
    }
   ],
   "source": [
    "#Precision recall curve plotting by importing \"plot_precision_recall_curve\" library from sklearn\n",
    "\n",
    "from sklearn.metrics import plot_precision_recall_curve\n",
    "\n",
    "pr = plot_precision_recall_curve(gbm, X_test, y_test)\n",
    "pr.ax_.set_title('Precision-Recall curve: '.format(avg_precision))"
   ]
  },
  {
   "cell_type": "markdown",
   "metadata": {},
   "source": [
    "## Plotting ROC AUC curve"
   ]
  },
  {
   "cell_type": "code",
   "execution_count": 29,
   "metadata": {},
   "outputs": [
    {
     "data": {
      "image/png": "[encoded data removed]",
      "text/plain": [
       "<Figure size 432x288 with 1 Axes>"
      ]
     },
     "metadata": {
      "needs_background": "light"
     },
     "output_type": "display_data"
    }
   ],
   "source": [
    "# calculate the fpr and tpr of the classification\n",
    "\n",
    "import sklearn.metrics as metrics\n",
    "from sklearn.metrics import roc_curve\n",
    "prob = model.predict_proba(X_test)\n",
    "pred = prob[:,1]\n",
    "fpr, tpr, threshold = metrics.roc_curve(y_test, pred)\n",
    "roc_auc = metrics.auc(fpr, tpr)\n",
    "\n",
    "plt.title('Receiver Operating Characteristics')\n",
    "plt.plot(fpr, tpr, label = 'ROC')\n",
    "plt.legend()\n",
    "plt.plot([0, 1], [0, 1],'r--')\n",
    "plt.ylabel('TPR')\n",
    "plt.xlabel('FPR')\n",
    "plt.show()"
   ]
  }
 ],
 "metadata": {
  "kernelspec": {
   "display_name": "Python 3",
   "language": "python",
   "name": "python3"
  },
  "language_info": {
   "codemirror_mode": {
    "name": "ipython",
    "version": 3
   },
   "file_extension": ".py",
   "mimetype": "text/x-python",
   "name": "python",
   "nbconvert_exporter": "python",
   "pygments_lexer": "ipython3",
   "version": "3.7.4"
  }
 },
 "nbformat": 4,
 "nbformat_minor": 2
}
