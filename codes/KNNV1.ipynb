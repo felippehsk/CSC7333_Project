{
 "cells": [
  {
   "cell_type": "code",
   "execution_count": 2,
   "metadata": {},
   "outputs": [],
   "source": [
    "#Importing libraries\n",
    "\n",
    "import numpy as np\n",
    "import pandas as pd\n",
    "import matplotlib.pyplot as plt\n",
    "import seaborn as sns\n",
    "from sklearn.neighbors import KNeighborsClassifier\n",
    "from sklearn.model_selection import train_test_split\n",
    "from sklearn.metrics import accuracy_score\n",
    "from sklearn.metrics import classification_report,confusion_matrix"
   ]
  },
  {
   "cell_type": "markdown",
   "metadata": {},
   "source": [
    "## Importing cleaned Dataset - 'FK_Friday_Fixed_Heading.csv'"
   ]
  },
  {
   "cell_type": "code",
   "execution_count": 3,
   "metadata": {},
   "outputs": [
    {
     "data": {
      "text/html": [
       "<div>\n",
       "<style scoped>\n",
       "    .dataframe tbody tr th:only-of-type {\n",
       "        vertical-align: middle;\n",
       "    }\n",
       "\n",
       "    .dataframe tbody tr th {\n",
       "        vertical-align: top;\n",
       "    }\n",
       "\n",
       "    .dataframe thead th {\n",
       "        text-align: right;\n",
       "    }\n",
       "</style>\n",
       "<table border=\"1\" class=\"dataframe\">\n",
       "  <thead>\n",
       "    <tr style=\"text-align: right;\">\n",
       "      <th></th>\n",
       "      <th>FlowDuration</th>\n",
       "      <th>TotalFwdPackets</th>\n",
       "      <th>TotalBackwardPackets</th>\n",
       "      <th>TotalLengthofFwdPackets</th>\n",
       "      <th>TotalLengthofBwdPackets</th>\n",
       "      <th>FwdPacketLengthMax</th>\n",
       "      <th>FwdPacketLengthMin</th>\n",
       "      <th>FwdPacketLengthMean</th>\n",
       "      <th>FwdPacketLengthStd</th>\n",
       "      <th>BwdPacketLengthMax</th>\n",
       "      <th>...</th>\n",
       "      <th>min_seg_size_forward</th>\n",
       "      <th>ActiveMean</th>\n",
       "      <th>ActiveStd</th>\n",
       "      <th>ActiveMax</th>\n",
       "      <th>ActiveMin</th>\n",
       "      <th>IdleMean</th>\n",
       "      <th>IdleStd</th>\n",
       "      <th>IdleMax</th>\n",
       "      <th>IdleMin</th>\n",
       "      <th>Label</th>\n",
       "    </tr>\n",
       "  </thead>\n",
       "  <tbody>\n",
       "    <tr>\n",
       "      <td>0</td>\n",
       "      <td>112740690</td>\n",
       "      <td>32</td>\n",
       "      <td>16</td>\n",
       "      <td>6448</td>\n",
       "      <td>1152</td>\n",
       "      <td>403</td>\n",
       "      <td>0</td>\n",
       "      <td>201.5</td>\n",
       "      <td>204.724205</td>\n",
       "      <td>72</td>\n",
       "      <td>...</td>\n",
       "      <td>32</td>\n",
       "      <td>3.594286e+02</td>\n",
       "      <td>1.199802e+01</td>\n",
       "      <td>380</td>\n",
       "      <td>343</td>\n",
       "      <td>16100000.0</td>\n",
       "      <td>4.988048e+05</td>\n",
       "      <td>16400000</td>\n",
       "      <td>15400000</td>\n",
       "      <td>BENIGN</td>\n",
       "    </tr>\n",
       "    <tr>\n",
       "      <td>1</td>\n",
       "      <td>112740560</td>\n",
       "      <td>32</td>\n",
       "      <td>16</td>\n",
       "      <td>6448</td>\n",
       "      <td>5056</td>\n",
       "      <td>403</td>\n",
       "      <td>0</td>\n",
       "      <td>201.5</td>\n",
       "      <td>204.724205</td>\n",
       "      <td>316</td>\n",
       "      <td>...</td>\n",
       "      <td>32</td>\n",
       "      <td>3.202857e+02</td>\n",
       "      <td>1.574499e+01</td>\n",
       "      <td>330</td>\n",
       "      <td>285</td>\n",
       "      <td>16100000.0</td>\n",
       "      <td>4.987937e+05</td>\n",
       "      <td>16400000</td>\n",
       "      <td>15400000</td>\n",
       "      <td>BENIGN</td>\n",
       "    </tr>\n",
       "    <tr>\n",
       "      <td>2</td>\n",
       "      <td>113757377</td>\n",
       "      <td>545</td>\n",
       "      <td>0</td>\n",
       "      <td>0</td>\n",
       "      <td>0</td>\n",
       "      <td>0</td>\n",
       "      <td>0</td>\n",
       "      <td>0.0</td>\n",
       "      <td>0.000000</td>\n",
       "      <td>0</td>\n",
       "      <td>...</td>\n",
       "      <td>0</td>\n",
       "      <td>9.361829e+06</td>\n",
       "      <td>7.324646e+06</td>\n",
       "      <td>18900000</td>\n",
       "      <td>19</td>\n",
       "      <td>12200000.0</td>\n",
       "      <td>6.935824e+06</td>\n",
       "      <td>20800000</td>\n",
       "      <td>5504997</td>\n",
       "      <td>BENIGN</td>\n",
       "    </tr>\n",
       "    <tr>\n",
       "      <td>3</td>\n",
       "      <td>100126</td>\n",
       "      <td>22</td>\n",
       "      <td>0</td>\n",
       "      <td>616</td>\n",
       "      <td>0</td>\n",
       "      <td>28</td>\n",
       "      <td>28</td>\n",
       "      <td>28.0</td>\n",
       "      <td>0.000000</td>\n",
       "      <td>0</td>\n",
       "      <td>...</td>\n",
       "      <td>32</td>\n",
       "      <td>0.000000e+00</td>\n",
       "      <td>0.000000e+00</td>\n",
       "      <td>0</td>\n",
       "      <td>0</td>\n",
       "      <td>0.0</td>\n",
       "      <td>0.000000e+00</td>\n",
       "      <td>0</td>\n",
       "      <td>0</td>\n",
       "      <td>BENIGN</td>\n",
       "    </tr>\n",
       "    <tr>\n",
       "      <td>4</td>\n",
       "      <td>54760</td>\n",
       "      <td>4</td>\n",
       "      <td>0</td>\n",
       "      <td>0</td>\n",
       "      <td>0</td>\n",
       "      <td>0</td>\n",
       "      <td>0</td>\n",
       "      <td>0.0</td>\n",
       "      <td>0.000000</td>\n",
       "      <td>0</td>\n",
       "      <td>...</td>\n",
       "      <td>0</td>\n",
       "      <td>0.000000e+00</td>\n",
       "      <td>0.000000e+00</td>\n",
       "      <td>0</td>\n",
       "      <td>0</td>\n",
       "      <td>0.0</td>\n",
       "      <td>0.000000e+00</td>\n",
       "      <td>0</td>\n",
       "      <td>0</td>\n",
       "      <td>BENIGN</td>\n",
       "    </tr>\n",
       "  </tbody>\n",
       "</table>\n",
       "<p>5 rows × 78 columns</p>\n",
       "</div>"
      ],
      "text/plain": [
       "   FlowDuration  TotalFwdPackets  TotalBackwardPackets  \\\n",
       "0     112740690               32                    16   \n",
       "1     112740560               32                    16   \n",
       "2     113757377              545                     0   \n",
       "3        100126               22                     0   \n",
       "4         54760                4                     0   \n",
       "\n",
       "   TotalLengthofFwdPackets  TotalLengthofBwdPackets  FwdPacketLengthMax  \\\n",
       "0                     6448                     1152                 403   \n",
       "1                     6448                     5056                 403   \n",
       "2                        0                        0                   0   \n",
       "3                      616                        0                  28   \n",
       "4                        0                        0                   0   \n",
       "\n",
       "   FwdPacketLengthMin  FwdPacketLengthMean  FwdPacketLengthStd  \\\n",
       "0                   0                201.5          204.724205   \n",
       "1                   0                201.5          204.724205   \n",
       "2                   0                  0.0            0.000000   \n",
       "3                  28                 28.0            0.000000   \n",
       "4                   0                  0.0            0.000000   \n",
       "\n",
       "   BwdPacketLengthMax  ...  min_seg_size_forward    ActiveMean     ActiveStd  \\\n",
       "0                  72  ...                    32  3.594286e+02  1.199802e+01   \n",
       "1                 316  ...                    32  3.202857e+02  1.574499e+01   \n",
       "2                   0  ...                     0  9.361829e+06  7.324646e+06   \n",
       "3                   0  ...                    32  0.000000e+00  0.000000e+00   \n",
       "4                   0  ...                     0  0.000000e+00  0.000000e+00   \n",
       "\n",
       "   ActiveMax  ActiveMin    IdleMean       IdleStd   IdleMax   IdleMin   Label  \n",
       "0        380        343  16100000.0  4.988048e+05  16400000  15400000  BENIGN  \n",
       "1        330        285  16100000.0  4.987937e+05  16400000  15400000  BENIGN  \n",
       "2   18900000         19  12200000.0  6.935824e+06  20800000   5504997  BENIGN  \n",
       "3          0          0         0.0  0.000000e+00         0         0  BENIGN  \n",
       "4          0          0         0.0  0.000000e+00         0         0  BENIGN  \n",
       "\n",
       "[5 rows x 78 columns]"
      ]
     },
     "execution_count": 3,
     "metadata": {},
     "output_type": "execute_result"
    }
   ],
   "source": [
    "#Dataset importing and display head section\n",
    "\n",
    "dataset = pd.read_csv('FK_Friday_Fixed_Heading.csv')\n",
    "dataset.head()"
   ]
  },
  {
   "cell_type": "markdown",
   "metadata": {},
   "source": [
    "# Converting output variables to binary digits"
   ]
  },
  {
   "cell_type": "code",
   "execution_count": 3,
   "metadata": {},
   "outputs": [],
   "source": [
    "#Converting classification variables to digits\n",
    "# BENIGN to 0 and Bot to 1\n",
    "\n",
    "def con_to_binary(x):\n",
    "    if x=='BENIGN':\n",
    "        return 0\n",
    "    if x=='Bot':\n",
    "        return 1\n",
    "    \n",
    "dataset['Label'] = dataset['Label'].apply(con_to_binary)"
   ]
  },
  {
   "cell_type": "code",
   "execution_count": 4,
   "metadata": {},
   "outputs": [
    {
     "data": {
      "text/html": [
       "<div>\n",
       "<style scoped>\n",
       "    .dataframe tbody tr th:only-of-type {\n",
       "        vertical-align: middle;\n",
       "    }\n",
       "\n",
       "    .dataframe tbody tr th {\n",
       "        vertical-align: top;\n",
       "    }\n",
       "\n",
       "    .dataframe thead th {\n",
       "        text-align: right;\n",
       "    }\n",
       "</style>\n",
       "<table border=\"1\" class=\"dataframe\">\n",
       "  <thead>\n",
       "    <tr style=\"text-align: right;\">\n",
       "      <th></th>\n",
       "      <th>FlowDuration</th>\n",
       "      <th>TotalFwdPackets</th>\n",
       "      <th>TotalBackwardPackets</th>\n",
       "      <th>TotalLengthofFwdPackets</th>\n",
       "      <th>TotalLengthofBwdPackets</th>\n",
       "      <th>FwdPacketLengthMax</th>\n",
       "      <th>FwdPacketLengthMin</th>\n",
       "      <th>FwdPacketLengthMean</th>\n",
       "      <th>FwdPacketLengthStd</th>\n",
       "      <th>BwdPacketLengthMax</th>\n",
       "      <th>...</th>\n",
       "      <th>min_seg_size_forward</th>\n",
       "      <th>ActiveMean</th>\n",
       "      <th>ActiveStd</th>\n",
       "      <th>ActiveMax</th>\n",
       "      <th>ActiveMin</th>\n",
       "      <th>IdleMean</th>\n",
       "      <th>IdleStd</th>\n",
       "      <th>IdleMax</th>\n",
       "      <th>IdleMin</th>\n",
       "      <th>Label</th>\n",
       "    </tr>\n",
       "  </thead>\n",
       "  <tbody>\n",
       "    <tr>\n",
       "      <td>0</td>\n",
       "      <td>112740690</td>\n",
       "      <td>32</td>\n",
       "      <td>16</td>\n",
       "      <td>6448</td>\n",
       "      <td>1152</td>\n",
       "      <td>403</td>\n",
       "      <td>0</td>\n",
       "      <td>201.5</td>\n",
       "      <td>204.724205</td>\n",
       "      <td>72</td>\n",
       "      <td>...</td>\n",
       "      <td>32</td>\n",
       "      <td>3.594286e+02</td>\n",
       "      <td>1.199802e+01</td>\n",
       "      <td>380</td>\n",
       "      <td>343</td>\n",
       "      <td>16100000.0</td>\n",
       "      <td>4.988048e+05</td>\n",
       "      <td>16400000</td>\n",
       "      <td>15400000</td>\n",
       "      <td>0</td>\n",
       "    </tr>\n",
       "    <tr>\n",
       "      <td>1</td>\n",
       "      <td>112740560</td>\n",
       "      <td>32</td>\n",
       "      <td>16</td>\n",
       "      <td>6448</td>\n",
       "      <td>5056</td>\n",
       "      <td>403</td>\n",
       "      <td>0</td>\n",
       "      <td>201.5</td>\n",
       "      <td>204.724205</td>\n",
       "      <td>316</td>\n",
       "      <td>...</td>\n",
       "      <td>32</td>\n",
       "      <td>3.202857e+02</td>\n",
       "      <td>1.574499e+01</td>\n",
       "      <td>330</td>\n",
       "      <td>285</td>\n",
       "      <td>16100000.0</td>\n",
       "      <td>4.987937e+05</td>\n",
       "      <td>16400000</td>\n",
       "      <td>15400000</td>\n",
       "      <td>0</td>\n",
       "    </tr>\n",
       "    <tr>\n",
       "      <td>2</td>\n",
       "      <td>113757377</td>\n",
       "      <td>545</td>\n",
       "      <td>0</td>\n",
       "      <td>0</td>\n",
       "      <td>0</td>\n",
       "      <td>0</td>\n",
       "      <td>0</td>\n",
       "      <td>0.0</td>\n",
       "      <td>0.000000</td>\n",
       "      <td>0</td>\n",
       "      <td>...</td>\n",
       "      <td>0</td>\n",
       "      <td>9.361829e+06</td>\n",
       "      <td>7.324646e+06</td>\n",
       "      <td>18900000</td>\n",
       "      <td>19</td>\n",
       "      <td>12200000.0</td>\n",
       "      <td>6.935824e+06</td>\n",
       "      <td>20800000</td>\n",
       "      <td>5504997</td>\n",
       "      <td>0</td>\n",
       "    </tr>\n",
       "    <tr>\n",
       "      <td>3</td>\n",
       "      <td>100126</td>\n",
       "      <td>22</td>\n",
       "      <td>0</td>\n",
       "      <td>616</td>\n",
       "      <td>0</td>\n",
       "      <td>28</td>\n",
       "      <td>28</td>\n",
       "      <td>28.0</td>\n",
       "      <td>0.000000</td>\n",
       "      <td>0</td>\n",
       "      <td>...</td>\n",
       "      <td>32</td>\n",
       "      <td>0.000000e+00</td>\n",
       "      <td>0.000000e+00</td>\n",
       "      <td>0</td>\n",
       "      <td>0</td>\n",
       "      <td>0.0</td>\n",
       "      <td>0.000000e+00</td>\n",
       "      <td>0</td>\n",
       "      <td>0</td>\n",
       "      <td>0</td>\n",
       "    </tr>\n",
       "    <tr>\n",
       "      <td>4</td>\n",
       "      <td>54760</td>\n",
       "      <td>4</td>\n",
       "      <td>0</td>\n",
       "      <td>0</td>\n",
       "      <td>0</td>\n",
       "      <td>0</td>\n",
       "      <td>0</td>\n",
       "      <td>0.0</td>\n",
       "      <td>0.000000</td>\n",
       "      <td>0</td>\n",
       "      <td>...</td>\n",
       "      <td>0</td>\n",
       "      <td>0.000000e+00</td>\n",
       "      <td>0.000000e+00</td>\n",
       "      <td>0</td>\n",
       "      <td>0</td>\n",
       "      <td>0.0</td>\n",
       "      <td>0.000000e+00</td>\n",
       "      <td>0</td>\n",
       "      <td>0</td>\n",
       "      <td>0</td>\n",
       "    </tr>\n",
       "  </tbody>\n",
       "</table>\n",
       "<p>5 rows × 78 columns</p>\n",
       "</div>"
      ],
      "text/plain": [
       "   FlowDuration  TotalFwdPackets  TotalBackwardPackets  \\\n",
       "0     112740690               32                    16   \n",
       "1     112740560               32                    16   \n",
       "2     113757377              545                     0   \n",
       "3        100126               22                     0   \n",
       "4         54760                4                     0   \n",
       "\n",
       "   TotalLengthofFwdPackets  TotalLengthofBwdPackets  FwdPacketLengthMax  \\\n",
       "0                     6448                     1152                 403   \n",
       "1                     6448                     5056                 403   \n",
       "2                        0                        0                   0   \n",
       "3                      616                        0                  28   \n",
       "4                        0                        0                   0   \n",
       "\n",
       "   FwdPacketLengthMin  FwdPacketLengthMean  FwdPacketLengthStd  \\\n",
       "0                   0                201.5          204.724205   \n",
       "1                   0                201.5          204.724205   \n",
       "2                   0                  0.0            0.000000   \n",
       "3                  28                 28.0            0.000000   \n",
       "4                   0                  0.0            0.000000   \n",
       "\n",
       "   BwdPacketLengthMax  ...  min_seg_size_forward    ActiveMean     ActiveStd  \\\n",
       "0                  72  ...                    32  3.594286e+02  1.199802e+01   \n",
       "1                 316  ...                    32  3.202857e+02  1.574499e+01   \n",
       "2                   0  ...                     0  9.361829e+06  7.324646e+06   \n",
       "3                   0  ...                    32  0.000000e+00  0.000000e+00   \n",
       "4                   0  ...                     0  0.000000e+00  0.000000e+00   \n",
       "\n",
       "   ActiveMax  ActiveMin    IdleMean       IdleStd   IdleMax   IdleMin  Label  \n",
       "0        380        343  16100000.0  4.988048e+05  16400000  15400000      0  \n",
       "1        330        285  16100000.0  4.987937e+05  16400000  15400000      0  \n",
       "2   18900000         19  12200000.0  6.935824e+06  20800000   5504997      0  \n",
       "3          0          0         0.0  0.000000e+00         0         0      0  \n",
       "4          0          0         0.0  0.000000e+00         0         0      0  \n",
       "\n",
       "[5 rows x 78 columns]"
      ]
     },
     "execution_count": 4,
     "metadata": {},
     "output_type": "execute_result"
    }
   ],
   "source": [
    "dataset.head()"
   ]
  },
  {
   "cell_type": "code",
   "execution_count": 5,
   "metadata": {},
   "outputs": [
    {
     "data": {
      "text/plain": [
       "(191033, 78)"
      ]
     },
     "execution_count": 5,
     "metadata": {},
     "output_type": "execute_result"
    }
   ],
   "source": [
    "dataset.shape"
   ]
  },
  {
   "cell_type": "markdown",
   "metadata": {},
   "source": [
    "## Selecting the top ten features which are extracted from Random Forest classifier\n",
    "\n",
    "1. BwdPacketLengthMean\n",
    "2. Init_Win_bytes_forward\n",
    "3. AvgBwdSegmentSize\n",
    "4. Init_Win_bytes_backward\n",
    "5. AveragePacketSize\n",
    "6. TotalLengthofBwdPackets\n",
    "7. SubflowBwdBytes\n",
    "8. BwdPackets/s\n",
    "9. PacketLengthMean\n",
    "10. BwdPacketLengthMax"
   ]
  },
  {
   "cell_type": "code",
   "execution_count": 6,
   "metadata": {},
   "outputs": [],
   "source": [
    "#creating a dataframe to select the data containing above features and 'Label' column (target variable)\n",
    "\n",
    "df =dataset[['BwdPacketLengthMean','Init_Win_bytes_forward', 'AvgBwdSegmentSize','Init_Win_bytes_backward','AveragePacketSize','TotalLengthofBwdPackets','SubflowBwdBytes','BwdPackets/s','PacketLengthMean','BwdPacketLengthMax','Label']]"
   ]
  },
  {
   "cell_type": "code",
   "execution_count": 7,
   "metadata": {},
   "outputs": [
    {
     "data": {
      "text/html": [
       "<div>\n",
       "<style scoped>\n",
       "    .dataframe tbody tr th:only-of-type {\n",
       "        vertical-align: middle;\n",
       "    }\n",
       "\n",
       "    .dataframe tbody tr th {\n",
       "        vertical-align: top;\n",
       "    }\n",
       "\n",
       "    .dataframe thead th {\n",
       "        text-align: right;\n",
       "    }\n",
       "</style>\n",
       "<table border=\"1\" class=\"dataframe\">\n",
       "  <thead>\n",
       "    <tr style=\"text-align: right;\">\n",
       "      <th></th>\n",
       "      <th>BwdPacketLengthMean</th>\n",
       "      <th>Init_Win_bytes_forward</th>\n",
       "      <th>AvgBwdSegmentSize</th>\n",
       "      <th>Init_Win_bytes_backward</th>\n",
       "      <th>AveragePacketSize</th>\n",
       "      <th>TotalLengthofBwdPackets</th>\n",
       "      <th>SubflowBwdBytes</th>\n",
       "      <th>BwdPackets/s</th>\n",
       "      <th>PacketLengthMean</th>\n",
       "      <th>BwdPacketLengthMax</th>\n",
       "      <th>Label</th>\n",
       "    </tr>\n",
       "  </thead>\n",
       "  <tbody>\n",
       "    <tr>\n",
       "      <td>0</td>\n",
       "      <td>72.0</td>\n",
       "      <td>377</td>\n",
       "      <td>72.0</td>\n",
       "      <td>2079</td>\n",
       "      <td>166.729167</td>\n",
       "      <td>1152</td>\n",
       "      <td>1152</td>\n",
       "      <td>0.141919</td>\n",
       "      <td>163.326531</td>\n",
       "      <td>72</td>\n",
       "      <td>0</td>\n",
       "    </tr>\n",
       "    <tr>\n",
       "      <td>1</td>\n",
       "      <td>316.0</td>\n",
       "      <td>955</td>\n",
       "      <td>316.0</td>\n",
       "      <td>2079</td>\n",
       "      <td>248.062500</td>\n",
       "      <td>5056</td>\n",
       "      <td>5056</td>\n",
       "      <td>0.141919</td>\n",
       "      <td>243.000000</td>\n",
       "      <td>316</td>\n",
       "      <td>0</td>\n",
       "    </tr>\n",
       "    <tr>\n",
       "      <td>2</td>\n",
       "      <td>0.0</td>\n",
       "      <td>-1</td>\n",
       "      <td>0.0</td>\n",
       "      <td>-1</td>\n",
       "      <td>0.000000</td>\n",
       "      <td>0</td>\n",
       "      <td>0</td>\n",
       "      <td>0.000000</td>\n",
       "      <td>0.000000</td>\n",
       "      <td>0</td>\n",
       "      <td>0</td>\n",
       "    </tr>\n",
       "    <tr>\n",
       "      <td>3</td>\n",
       "      <td>0.0</td>\n",
       "      <td>-1</td>\n",
       "      <td>0.0</td>\n",
       "      <td>-1</td>\n",
       "      <td>29.272727</td>\n",
       "      <td>0</td>\n",
       "      <td>0</td>\n",
       "      <td>0.000000</td>\n",
       "      <td>28.000000</td>\n",
       "      <td>0</td>\n",
       "      <td>0</td>\n",
       "    </tr>\n",
       "    <tr>\n",
       "      <td>4</td>\n",
       "      <td>0.0</td>\n",
       "      <td>-1</td>\n",
       "      <td>0.0</td>\n",
       "      <td>-1</td>\n",
       "      <td>0.000000</td>\n",
       "      <td>0</td>\n",
       "      <td>0</td>\n",
       "      <td>0.000000</td>\n",
       "      <td>0.000000</td>\n",
       "      <td>0</td>\n",
       "      <td>0</td>\n",
       "    </tr>\n",
       "  </tbody>\n",
       "</table>\n",
       "</div>"
      ],
      "text/plain": [
       "   BwdPacketLengthMean  Init_Win_bytes_forward  AvgBwdSegmentSize  \\\n",
       "0                 72.0                     377               72.0   \n",
       "1                316.0                     955              316.0   \n",
       "2                  0.0                      -1                0.0   \n",
       "3                  0.0                      -1                0.0   \n",
       "4                  0.0                      -1                0.0   \n",
       "\n",
       "   Init_Win_bytes_backward  AveragePacketSize  TotalLengthofBwdPackets  \\\n",
       "0                     2079         166.729167                     1152   \n",
       "1                     2079         248.062500                     5056   \n",
       "2                       -1           0.000000                        0   \n",
       "3                       -1          29.272727                        0   \n",
       "4                       -1           0.000000                        0   \n",
       "\n",
       "   SubflowBwdBytes  BwdPackets/s  PacketLengthMean  BwdPacketLengthMax  Label  \n",
       "0             1152      0.141919        163.326531                  72      0  \n",
       "1             5056      0.141919        243.000000                 316      0  \n",
       "2                0      0.000000          0.000000                   0      0  \n",
       "3                0      0.000000         28.000000                   0      0  \n",
       "4                0      0.000000          0.000000                   0      0  "
      ]
     },
     "execution_count": 7,
     "metadata": {},
     "output_type": "execute_result"
    }
   ],
   "source": [
    "df.head()"
   ]
  },
  {
   "cell_type": "code",
   "execution_count": 8,
   "metadata": {},
   "outputs": [
    {
     "data": {
      "text/plain": [
       "(191033, 11)"
      ]
     },
     "execution_count": 8,
     "metadata": {},
     "output_type": "execute_result"
    }
   ],
   "source": [
    "df.shape"
   ]
  },
  {
   "cell_type": "markdown",
   "metadata": {},
   "source": [
    "#### The above number of rows - 191033 from 'df' is matching with actual 'dataset' "
   ]
  },
  {
   "cell_type": "markdown",
   "metadata": {},
   "source": [
    "## Defining dependent and independent variables"
   ]
  },
  {
   "cell_type": "code",
   "execution_count": 9,
   "metadata": {},
   "outputs": [
    {
     "name": "stdout",
     "output_type": "stream",
     "text": [
      "(191033, 10)\n",
      "(191033,)\n"
     ]
    }
   ],
   "source": [
    "#Assigning X as independent variable and y as target variable\n",
    "\n",
    "X = df.drop(columns='Label')\n",
    "y = df.iloc[:,10]\n",
    "\n",
    "#Checking the shape of X and y variables\n",
    "\n",
    "print(X.shape)\n",
    "print(y.shape)"
   ]
  },
  {
   "cell_type": "markdown",
   "metadata": {},
   "source": [
    "### Checking the count of target variables - 0 and 1"
   ]
  },
  {
   "cell_type": "code",
   "execution_count": 10,
   "metadata": {},
   "outputs": [
    {
     "data": {
      "text/plain": [
       "0    189067\n",
       "1      1966\n",
       "Name: Label, dtype: int64"
      ]
     },
     "execution_count": 10,
     "metadata": {},
     "output_type": "execute_result"
    }
   ],
   "source": [
    "df.Label.value_counts()"
   ]
  },
  {
   "cell_type": "markdown",
   "metadata": {},
   "source": [
    "## Handling imbalanced dataset using SMOTETomek method for balancing the target variables\n",
    "## This will perform over-sampling using SMOTE and cleaning using Tomek links."
   ]
  },
  {
   "cell_type": "code",
   "execution_count": 11,
   "metadata": {},
   "outputs": [
    {
     "name": "stderr",
     "output_type": "stream",
     "text": [
      "Using TensorFlow backend.\n"
     ]
    }
   ],
   "source": [
    "# Implementing SMOTETomek method with random state as '123'and fitting this to X and y variables \n",
    "\n",
    "from imblearn.combine import SMOTETomek\n",
    "smk = SMOTETomek(random_state=123)\n",
    "X_res,y_res=smk.fit_sample(X,y)"
   ]
  },
  {
   "cell_type": "code",
   "execution_count": 12,
   "metadata": {},
   "outputs": [
    {
     "data": {
      "text/plain": [
       "((191033, 10), (191033,))"
      ]
     },
     "execution_count": 12,
     "metadata": {},
     "output_type": "execute_result"
    }
   ],
   "source": [
    "#Shapes of original data\n",
    "(X.shape), (y.shape)"
   ]
  },
  {
   "cell_type": "code",
   "execution_count": 13,
   "metadata": {},
   "outputs": [
    {
     "data": {
      "text/plain": [
       "((377886, 10), (377886,))"
      ]
     },
     "execution_count": 13,
     "metadata": {},
     "output_type": "execute_result"
    }
   ],
   "source": [
    "#Shapes of resampled data after applying SMOTETomek\n",
    "(X_res.shape), (y_res.shape)"
   ]
  },
  {
   "cell_type": "markdown",
   "metadata": {},
   "source": [
    "## The below result shows we got equal number of target variable classifiers"
   ]
  },
  {
   "cell_type": "code",
   "execution_count": 14,
   "metadata": {},
   "outputs": [
    {
     "name": "stdout",
     "output_type": "stream",
     "text": [
      "Number of classified rows in y_res Counter({0: 188943, 1: 188943})\n"
     ]
    }
   ],
   "source": [
    "#Count of y_res for Benign:0 and Bot:1 after resampling  \n",
    "\n",
    "from collections import Counter\n",
    "print('Number of classified rows in y_res {}'.format(Counter(y_res)))"
   ]
  },
  {
   "cell_type": "markdown",
   "metadata": {},
   "source": [
    "### Overview of resampled head data for independent variables "
   ]
  },
  {
   "cell_type": "code",
   "execution_count": 15,
   "metadata": {},
   "outputs": [
    {
     "data": {
      "text/html": [
       "<div>\n",
       "<style scoped>\n",
       "    .dataframe tbody tr th:only-of-type {\n",
       "        vertical-align: middle;\n",
       "    }\n",
       "\n",
       "    .dataframe tbody tr th {\n",
       "        vertical-align: top;\n",
       "    }\n",
       "\n",
       "    .dataframe thead th {\n",
       "        text-align: right;\n",
       "    }\n",
       "</style>\n",
       "<table border=\"1\" class=\"dataframe\">\n",
       "  <thead>\n",
       "    <tr style=\"text-align: right;\">\n",
       "      <th></th>\n",
       "      <th>BwdPacketLengthMean</th>\n",
       "      <th>Init_Win_bytes_forward</th>\n",
       "      <th>AvgBwdSegmentSize</th>\n",
       "      <th>Init_Win_bytes_backward</th>\n",
       "      <th>AveragePacketSize</th>\n",
       "      <th>TotalLengthofBwdPackets</th>\n",
       "      <th>SubflowBwdBytes</th>\n",
       "      <th>BwdPackets/s</th>\n",
       "      <th>PacketLengthMean</th>\n",
       "      <th>BwdPacketLengthMax</th>\n",
       "    </tr>\n",
       "  </thead>\n",
       "  <tbody>\n",
       "    <tr>\n",
       "      <td>0</td>\n",
       "      <td>72.0</td>\n",
       "      <td>377</td>\n",
       "      <td>72.0</td>\n",
       "      <td>2079</td>\n",
       "      <td>166.729167</td>\n",
       "      <td>1152</td>\n",
       "      <td>1152</td>\n",
       "      <td>0.141919</td>\n",
       "      <td>163.326531</td>\n",
       "      <td>72</td>\n",
       "    </tr>\n",
       "    <tr>\n",
       "      <td>1</td>\n",
       "      <td>316.0</td>\n",
       "      <td>955</td>\n",
       "      <td>316.0</td>\n",
       "      <td>2079</td>\n",
       "      <td>248.062500</td>\n",
       "      <td>5056</td>\n",
       "      <td>5056</td>\n",
       "      <td>0.141919</td>\n",
       "      <td>243.000000</td>\n",
       "      <td>316</td>\n",
       "    </tr>\n",
       "    <tr>\n",
       "      <td>2</td>\n",
       "      <td>0.0</td>\n",
       "      <td>-1</td>\n",
       "      <td>0.0</td>\n",
       "      <td>-1</td>\n",
       "      <td>0.000000</td>\n",
       "      <td>0</td>\n",
       "      <td>0</td>\n",
       "      <td>0.000000</td>\n",
       "      <td>0.000000</td>\n",
       "      <td>0</td>\n",
       "    </tr>\n",
       "    <tr>\n",
       "      <td>3</td>\n",
       "      <td>0.0</td>\n",
       "      <td>-1</td>\n",
       "      <td>0.0</td>\n",
       "      <td>-1</td>\n",
       "      <td>29.272727</td>\n",
       "      <td>0</td>\n",
       "      <td>0</td>\n",
       "      <td>0.000000</td>\n",
       "      <td>28.000000</td>\n",
       "      <td>0</td>\n",
       "    </tr>\n",
       "    <tr>\n",
       "      <td>4</td>\n",
       "      <td>0.0</td>\n",
       "      <td>-1</td>\n",
       "      <td>0.0</td>\n",
       "      <td>-1</td>\n",
       "      <td>0.000000</td>\n",
       "      <td>0</td>\n",
       "      <td>0</td>\n",
       "      <td>0.000000</td>\n",
       "      <td>0.000000</td>\n",
       "      <td>0</td>\n",
       "    </tr>\n",
       "  </tbody>\n",
       "</table>\n",
       "</div>"
      ],
      "text/plain": [
       "   BwdPacketLengthMean  Init_Win_bytes_forward  AvgBwdSegmentSize  \\\n",
       "0                 72.0                     377               72.0   \n",
       "1                316.0                     955              316.0   \n",
       "2                  0.0                      -1                0.0   \n",
       "3                  0.0                      -1                0.0   \n",
       "4                  0.0                      -1                0.0   \n",
       "\n",
       "   Init_Win_bytes_backward  AveragePacketSize  TotalLengthofBwdPackets  \\\n",
       "0                     2079         166.729167                     1152   \n",
       "1                     2079         248.062500                     5056   \n",
       "2                       -1           0.000000                        0   \n",
       "3                       -1          29.272727                        0   \n",
       "4                       -1           0.000000                        0   \n",
       "\n",
       "   SubflowBwdBytes  BwdPackets/s  PacketLengthMean  BwdPacketLengthMax  \n",
       "0             1152      0.141919        163.326531                  72  \n",
       "1             5056      0.141919        243.000000                 316  \n",
       "2                0      0.000000          0.000000                   0  \n",
       "3                0      0.000000         28.000000                   0  \n",
       "4                0      0.000000          0.000000                   0  "
      ]
     },
     "execution_count": 15,
     "metadata": {},
     "output_type": "execute_result"
    }
   ],
   "source": [
    "X_res.head()"
   ]
  },
  {
   "cell_type": "markdown",
   "metadata": {},
   "source": [
    "### Overview of resampled head data for dependent variable "
   ]
  },
  {
   "cell_type": "code",
   "execution_count": 16,
   "metadata": {},
   "outputs": [
    {
     "data": {
      "text/plain": [
       "377881    1\n",
       "377882    1\n",
       "377883    1\n",
       "377884    1\n",
       "377885    1\n",
       "Name: Label, dtype: int64"
      ]
     },
     "execution_count": 16,
     "metadata": {},
     "output_type": "execute_result"
    }
   ],
   "source": [
    "y_res.tail()"
   ]
  },
  {
   "cell_type": "markdown",
   "metadata": {},
   "source": [
    "## Performing Standardization operation \n",
    "### Reason: KNN alogorithm involves calculation of ecludian distance between the data points and standardizing the data will make same units of meaurement for all the features"
   ]
  },
  {
   "cell_type": "code",
   "execution_count": 19,
   "metadata": {},
   "outputs": [
    {
     "data": {
      "text/html": [
       "<div>\n",
       "<style scoped>\n",
       "    .dataframe tbody tr th:only-of-type {\n",
       "        vertical-align: middle;\n",
       "    }\n",
       "\n",
       "    .dataframe tbody tr th {\n",
       "        vertical-align: top;\n",
       "    }\n",
       "\n",
       "    .dataframe thead th {\n",
       "        text-align: right;\n",
       "    }\n",
       "</style>\n",
       "<table border=\"1\" class=\"dataframe\">\n",
       "  <thead>\n",
       "    <tr style=\"text-align: right;\">\n",
       "      <th></th>\n",
       "      <th>BwdPacketLengthMean</th>\n",
       "      <th>Init_Win_bytes_forward</th>\n",
       "      <th>AvgBwdSegmentSize</th>\n",
       "      <th>Init_Win_bytes_backward</th>\n",
       "      <th>AveragePacketSize</th>\n",
       "      <th>TotalLengthofBwdPackets</th>\n",
       "      <th>SubflowBwdBytes</th>\n",
       "      <th>BwdPackets/s</th>\n",
       "      <th>PacketLengthMean</th>\n",
       "      <th>BwdPacketLengthMax</th>\n",
       "    </tr>\n",
       "  </thead>\n",
       "  <tbody>\n",
       "    <tr>\n",
       "      <td>0</td>\n",
       "      <td>-0.103989</td>\n",
       "      <td>-0.525585</td>\n",
       "      <td>-0.103989</td>\n",
       "      <td>0.069337</td>\n",
       "      <td>0.404775</td>\n",
       "      <td>-0.005614</td>\n",
       "      <td>-0.005614</td>\n",
       "      <td>-0.244861</td>\n",
       "      <td>0.449763</td>\n",
       "      <td>-0.260074</td>\n",
       "    </tr>\n",
       "    <tr>\n",
       "      <td>1</td>\n",
       "      <td>1.059909</td>\n",
       "      <td>-0.468991</td>\n",
       "      <td>1.059909</td>\n",
       "      <td>0.069337</td>\n",
       "      <td>0.823241</td>\n",
       "      <td>-0.003957</td>\n",
       "      <td>-0.003957</td>\n",
       "      <td>-0.244861</td>\n",
       "      <td>0.870681</td>\n",
       "      <td>0.151926</td>\n",
       "    </tr>\n",
       "    <tr>\n",
       "      <td>2</td>\n",
       "      <td>-0.447435</td>\n",
       "      <td>-0.562596</td>\n",
       "      <td>-0.447435</td>\n",
       "      <td>-0.225574</td>\n",
       "      <td>-0.453059</td>\n",
       "      <td>-0.006102</td>\n",
       "      <td>-0.006102</td>\n",
       "      <td>-0.244864</td>\n",
       "      <td>-0.413098</td>\n",
       "      <td>-0.381648</td>\n",
       "    </tr>\n",
       "    <tr>\n",
       "      <td>3</td>\n",
       "      <td>-0.447435</td>\n",
       "      <td>-0.562596</td>\n",
       "      <td>-0.447435</td>\n",
       "      <td>-0.225574</td>\n",
       "      <td>-0.302449</td>\n",
       "      <td>-0.006102</td>\n",
       "      <td>-0.006102</td>\n",
       "      <td>-0.244864</td>\n",
       "      <td>-0.265173</td>\n",
       "      <td>-0.381648</td>\n",
       "    </tr>\n",
       "    <tr>\n",
       "      <td>4</td>\n",
       "      <td>-0.447435</td>\n",
       "      <td>-0.562596</td>\n",
       "      <td>-0.447435</td>\n",
       "      <td>-0.225574</td>\n",
       "      <td>-0.453059</td>\n",
       "      <td>-0.006102</td>\n",
       "      <td>-0.006102</td>\n",
       "      <td>-0.244864</td>\n",
       "      <td>-0.413098</td>\n",
       "      <td>-0.381648</td>\n",
       "    </tr>\n",
       "  </tbody>\n",
       "</table>\n",
       "</div>"
      ],
      "text/plain": [
       "   BwdPacketLengthMean  Init_Win_bytes_forward  AvgBwdSegmentSize  \\\n",
       "0            -0.103989               -0.525585          -0.103989   \n",
       "1             1.059909               -0.468991           1.059909   \n",
       "2            -0.447435               -0.562596          -0.447435   \n",
       "3            -0.447435               -0.562596          -0.447435   \n",
       "4            -0.447435               -0.562596          -0.447435   \n",
       "\n",
       "   Init_Win_bytes_backward  AveragePacketSize  TotalLengthofBwdPackets  \\\n",
       "0                 0.069337           0.404775                -0.005614   \n",
       "1                 0.069337           0.823241                -0.003957   \n",
       "2                -0.225574          -0.453059                -0.006102   \n",
       "3                -0.225574          -0.302449                -0.006102   \n",
       "4                -0.225574          -0.453059                -0.006102   \n",
       "\n",
       "   SubflowBwdBytes  BwdPackets/s  PacketLengthMean  BwdPacketLengthMax  \n",
       "0        -0.005614     -0.244861          0.449763           -0.260074  \n",
       "1        -0.003957     -0.244861          0.870681            0.151926  \n",
       "2        -0.006102     -0.244864         -0.413098           -0.381648  \n",
       "3        -0.006102     -0.244864         -0.265173           -0.381648  \n",
       "4        -0.006102     -0.244864         -0.413098           -0.381648  "
      ]
     },
     "execution_count": 19,
     "metadata": {},
     "output_type": "execute_result"
    }
   ],
   "source": [
    "#Importing Standardization library\n",
    "from sklearn.preprocessing import StandardScaler\n",
    "std = StandardScaler()\n",
    "std.fit(X_res)\n",
    "std_features = std.transform(X_res) #rescaling \n",
    "X_std = pd.DataFrame(std_features, columns=X_res.columns) \n",
    "X_std.head()"
   ]
  },
  {
   "cell_type": "code",
   "execution_count": 20,
   "metadata": {},
   "outputs": [
    {
     "data": {
      "text/plain": [
       "array([[-0.10398922, -0.52558499, -0.10398922, ..., -0.24486131,\n",
       "         0.44976315, -0.2600743 ],\n",
       "       [ 1.05990875, -0.46899093,  1.05990875, ..., -0.24486131,\n",
       "         0.87068144,  0.15192574],\n",
       "       [-0.44743452, -0.56259633, -0.44743452, ..., -0.24486376,\n",
       "        -0.4130978 , -0.38164808],\n",
       "       ...,\n",
       "       [-0.41881408,  0.23960972, -0.41881408, ..., -0.24481176,\n",
       "        -0.39951283, -0.37151693],\n",
       "       [-0.23437123,  0.23960972, -0.23437123, ..., -0.24421567,\n",
       "        -0.1885685 , -0.16551691],\n",
       "       [-0.41881408, -0.53929289, -0.41881408, ...,  0.22216384,\n",
       "        -0.38139954, -0.37151693]])"
      ]
     },
     "execution_count": 20,
     "metadata": {},
     "output_type": "execute_result"
    }
   ],
   "source": [
    "std_features"
   ]
  },
  {
   "cell_type": "code",
   "execution_count": 21,
   "metadata": {},
   "outputs": [],
   "source": [
    "# Splitting the dataset into train and test\n",
    "X_train, X_test, y_train, y_test = train_test_split(X_std,y_res, test_size=0.30)"
   ]
  },
  {
   "cell_type": "markdown",
   "metadata": {},
   "source": [
    "## Implementing the KNN algorithm\n",
    "### randomly choosing the intial value for K as '5' and understanding the performance"
   ]
  },
  {
   "cell_type": "code",
   "execution_count": 22,
   "metadata": {},
   "outputs": [],
   "source": [
    "knn = KNeighborsClassifier(n_neighbors=5)\n",
    "knn.fit(X_train,y_train)\n",
    "y_pred = knn.predict(X_test)"
   ]
  },
  {
   "cell_type": "markdown",
   "metadata": {},
   "source": [
    "### Below confusion matrix result shows '89' as misclassified into False negative"
   ]
  },
  {
   "cell_type": "code",
   "execution_count": 23,
   "metadata": {},
   "outputs": [
    {
     "name": "stdout",
     "output_type": "stream",
     "text": [
      "[[56696   280]\n",
      " [   89 56301]]\n"
     ]
    }
   ],
   "source": [
    "print(confusion_matrix(y_test,y_pred))"
   ]
  },
  {
   "cell_type": "code",
   "execution_count": 24,
   "metadata": {},
   "outputs": [
    {
     "name": "stdout",
     "output_type": "stream",
     "text": [
      "              precision    recall  f1-score   support\n",
      "\n",
      "           0       1.00      1.00      1.00     56976\n",
      "           1       1.00      1.00      1.00     56390\n",
      "\n",
      "    accuracy                           1.00    113366\n",
      "   macro avg       1.00      1.00      1.00    113366\n",
      "weighted avg       1.00      1.00      1.00    113366\n",
      "\n"
     ]
    }
   ],
   "source": [
    "print(classification_report(y_test,y_pred))"
   ]
  },
  {
   "cell_type": "markdown",
   "metadata": {},
   "source": [
    "## Evaluating the K-value using elbow method\n",
    "### We have to plot a graph between Error Rate Vs K value and understand the plot where the curve has low error rate\n",
    "### We take the mean value of error when the values of prediction and test values are not equal "
   ]
  },
  {
   "cell_type": "code",
   "execution_count": 25,
   "metadata": {},
   "outputs": [],
   "source": [
    "error_value = []\n",
    "\n",
    "for i in range(1,50):\n",
    "    \n",
    "    knn = KNeighborsClassifier(n_neighbors=i)\n",
    "    knn.fit(X_train,y_train)\n",
    "    i_pred = knn.predict(X_test)\n",
    "    error_value.append(np.mean(i_pred != y_test))"
   ]
  },
  {
   "cell_type": "markdown",
   "metadata": {},
   "source": [
    "## Plotting Error rate Vs K value on test data\n",
    "### Choosing the k-value which has minimum error rate"
   ]
  },
  {
   "cell_type": "code",
   "execution_count": 29,
   "metadata": {},
   "outputs": [
    {
     "data": {
      "image/png": "[encoded data removed]",
      "text/plain": [
       "<Figure size 1080x720 with 1 Axes>"
      ]
     },
     "metadata": {
      "needs_background": "light"
     },
     "output_type": "display_data"
    }
   ],
   "source": [
    "from pylab import rcParams\n",
    "plt.plot(range(1,50),error_value,color='orange', linestyle='dashed', marker='o',markerfacecolor='blue', markersize=10)\n",
    "plt.title('Error_Rate vs. K Value')\n",
    "plt.xlabel('K')\n",
    "plt.ylabel('Error_Rate')\n",
    "rcParams['figure.figsize'] = 15,10"
   ]
  },
  {
   "cell_type": "markdown",
   "metadata": {},
   "source": [
    "## The above graph shows the K=1 as the best value with minimum error rate\n",
    "### Choosing K value with odd number is wise as even number will end up in tie"
   ]
  },
  {
   "cell_type": "code",
   "execution_count": 38,
   "metadata": {},
   "outputs": [
    {
     "name": "stdout",
     "output_type": "stream",
     "text": [
      "0.9981475927526772\n"
     ]
    }
   ],
   "source": [
    "KNN = KNeighborsClassifier(n_neighbors=1)\n",
    "KNN.fit(X_train,y_train)\n",
    "y_pred_2 = KNN.predict(X_test)\n",
    "accuracy=accuracy_score(y_test, y_pred_2)\n",
    "print(accuracy)"
   ]
  },
  {
   "cell_type": "code",
   "execution_count": 31,
   "metadata": {},
   "outputs": [
    {
     "name": "stdout",
     "output_type": "stream",
     "text": [
      "[[56834   142]\n",
      " [   68 56322]]\n"
     ]
    }
   ],
   "source": [
    "print(confusion_matrix(y_test,y_pred_2))"
   ]
  },
  {
   "cell_type": "markdown",
   "metadata": {},
   "source": [
    "## The above confusion matrix improved in results when compared with K=5\n",
    "### False negative and False positive value have been decreased"
   ]
  },
  {
   "cell_type": "code",
   "execution_count": 32,
   "metadata": {},
   "outputs": [
    {
     "name": "stdout",
     "output_type": "stream",
     "text": [
      "              precision    recall  f1-score   support\n",
      "\n",
      "           0       1.00      1.00      1.00     56976\n",
      "           1       1.00      1.00      1.00     56390\n",
      "\n",
      "    accuracy                           1.00    113366\n",
      "   macro avg       1.00      1.00      1.00    113366\n",
      "weighted avg       1.00      1.00      1.00    113366\n",
      "\n"
     ]
    }
   ],
   "source": [
    "print(classification_report(y_test,y_pred_2))"
   ]
  },
  {
   "cell_type": "markdown",
   "metadata": {},
   "source": [
    "## Plotting Precision - Recall curve "
   ]
  },
  {
   "cell_type": "code",
   "execution_count": 33,
   "metadata": {},
   "outputs": [
    {
     "data": {
      "text/plain": [
       "0.9968820954629123"
      ]
     },
     "execution_count": 33,
     "metadata": {},
     "output_type": "execute_result"
    }
   ],
   "source": [
    "#Average precision score evaluation on test and prediction results\n",
    "\n",
    "from sklearn.metrics import average_precision_score\n",
    "avg_precision = average_precision_score(y_test, y_pred_2)\n",
    "avg_precision"
   ]
  },
  {
   "cell_type": "code",
   "execution_count": 35,
   "metadata": {},
   "outputs": [
    {
     "data": {
      "image/png": "[encoded data removed]",
      "text/plain": [
       "<Figure size 1080x720 with 1 Axes>"
      ]
     },
     "metadata": {
      "needs_background": "light"
     },
     "output_type": "display_data"
    }
   ],
   "source": [
    "#Precision recall curve plotting by importing \"plot_precision_recall_curve\" library from sklearn\n",
    "\n",
    "from sklearn.metrics import plot_precision_recall_curve\n",
    "\n",
    "pr = plot_precision_recall_curve(KNN, X_test, y_test)\n",
    "pr.ax_.set_title('Precision-Recall curve: '.format(avg_precision))\n",
    "rcParams['figure.figsize'] = 10,5"
   ]
  },
  {
   "cell_type": "markdown",
   "metadata": {},
   "source": [
    "## Plotting ROC AUC curve"
   ]
  },
  {
   "cell_type": "code",
   "execution_count": 36,
   "metadata": {},
   "outputs": [
    {
     "data": {
      "image/png": "[encoded data removed]",
      "text/plain": [
       "<Figure size 720x360 with 1 Axes>"
      ]
     },
     "metadata": {
      "needs_background": "light"
     },
     "output_type": "display_data"
    }
   ],
   "source": [
    "# calculate the fpr and tpr of the classification\n",
    "\n",
    "import sklearn.metrics as metrics\n",
    "from sklearn.metrics import roc_curve\n",
    "prob = knn.fit(X_train,y_train).predict_proba(X_test)\n",
    "pred = prob[:,1]\n",
    "fpr, tpr, threshold = metrics.roc_curve(y_test, pred)\n",
    "roc_auc = metrics.auc(fpr, tpr)\n",
    "\n",
    "plt.title('Receiver Operating Characteristics')\n",
    "plt.plot(fpr, tpr, label = 'ROC')\n",
    "plt.legend()\n",
    "plt.plot([0, 1], [0, 1],'r--')\n",
    "plt.ylabel('TPR')\n",
    "plt.xlabel('FPR')\n",
    "plt.show()"
   ]
  },
  {
   "cell_type": "code",
   "execution_count": null,
   "metadata": {},
   "outputs": [],
   "source": []
  }
 ],
 "metadata": {
  "kernelspec": {
   "display_name": "Python 3",
   "language": "python",
   "name": "python3"
  },
  "language_info": {
   "codemirror_mode": {
    "name": "ipython",
    "version": 3
   },
   "file_extension": ".py",
   "mimetype": "text/x-python",
   "name": "python",
   "nbconvert_exporter": "python",
   "pygments_lexer": "ipython3",
   "version": "3.7.4"
  }
 },
 "nbformat": 4,
 "nbformat_minor": 2
}
